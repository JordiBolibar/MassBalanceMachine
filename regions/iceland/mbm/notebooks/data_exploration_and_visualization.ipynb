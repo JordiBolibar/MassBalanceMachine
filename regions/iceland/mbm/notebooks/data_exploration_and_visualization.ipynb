{
 "cells": [
  {
   "metadata": {},
   "cell_type": "markdown",
   "source": [
    "## Data Visualisation and Exploration of the Iceland Stake Measurements Dataset\n",
    "\n",
    "@Author: Julian Biesheuvel  \n",
    "Email: j.p.biesheuvel@student.tudelft.nl  \n",
    "Date Created: 04/06/2024"
   ],
   "id": "e213b69e1a3c9454"
  },
  {
   "cell_type": "code",
   "id": "initial_id",
   "metadata": {
    "collapsed": true,
    "ExecuteTime": {
     "end_time": "2024-05-24T15:30:54.850244Z",
     "start_time": "2024-05-24T15:30:54.616261Z"
    }
   },
   "source": [
    "import numpy as np\n",
    "import pandas as pd\n",
    "import xarray as xr\n",
    "import matplotlib.pyplot as plt\n",
    "import seaborn as sns\n",
    "import warnings\n",
    "from matplotlib import rcParams\n",
    "from matplotlib import gridspec\n",
    "\n",
    "rcParams['axes.titlepad'] = 20 \n",
    "\n",
    "warnings.filterwarnings(\"ignore\")\n",
    "\n",
    "pd.set_option('display.max_rows', None)\n",
    "pd.set_option('display.expand_frame_repr', False)\n",
    "\n",
    "PLOTTING = True"
   ],
   "execution_count": 1,
   "outputs": []
  },
  {
   "metadata": {
    "ExecuteTime": {
     "end_time": "2024-05-24T15:30:55.369173Z",
     "start_time": "2024-05-24T15:30:54.851263Z"
    }
   },
   "cell_type": "code",
   "source": [
    "# Load the datasets of Iceland and Norway containing the stake measurements, topographical and climatological features. \n",
    "file_dir = '.././data/'\n",
    "\n",
    "df_iceland = pd.read_csv(file_dir + 'files/Iceland_Stake_Data_Cleaned.csv')\n",
    "df_norway = pd.read_csv(file_dir + 'files/Norway_Stake_Data.csv', index_col=False)\n",
    "\n",
    "# Change the column names for the mass balance similar between the two datasets for convenience during plotting\n",
    "df_norway['elevation'] = df_norway['altitude'].astype(int)\n",
    "df_norway['bw_stratigraphic'] = df_norway['balance_winter']\n",
    "df_norway['bs_stratigraphic'] = df_norway['balance_summer']\n",
    "df_norway['ba_stratigraphic'] = df_norway['balance_netto']"
   ],
   "id": "56886f7193a81e38",
   "execution_count": 2,
   "outputs": []
  },
  {
   "metadata": {},
   "cell_type": "markdown",
   "source": "### Basic Statistics of the Datasets of Iceland and Norway",
   "id": "bdb537d2c3e76256"
  },
  {
   "metadata": {
    "ExecuteTime": {
     "end_time": "2024-05-24T15:30:55.748518Z",
     "start_time": "2024-05-24T15:30:55.372173Z"
    }
   },
   "cell_type": "code",
   "source": "df_iceland.describe()",
   "id": "53796f0f5feb129c",
   "execution_count": 3,
   "outputs": []
  },
  {
   "metadata": {
    "ExecuteTime": {
     "end_time": "2024-05-24T15:30:56.225151Z",
     "start_time": "2024-05-24T15:30:55.750489Z"
    }
   },
   "cell_type": "code",
   "source": "df_norway.describe()",
   "id": "c24b1550a6ec50ef",
   "execution_count": 4,
   "outputs": []
  },
  {
   "metadata": {},
   "cell_type": "markdown",
   "source": "### Overview of Annual Glacier Measurements in Iceland",
   "id": "4dd1e3c27be25b36"
  },
  {
   "metadata": {
    "ExecuteTime": {
     "end_time": "2024-05-24T15:31:01.672147Z",
     "start_time": "2024-05-24T15:30:56.227147Z"
    }
   },
   "cell_type": "code",
   "source": [
    "# Define the range of years and unique glacier IDs\n",
    "measurement_years = np.arange(df_iceland['yr'].min(), df_iceland['yr'].max() + 1)\n",
    "glacier_ids = df_iceland.dropna(subset=['RGIId'])['RGIId'].unique()\n",
    "\n",
    "# Create DataFrame to store number of measurements per year per glacier\n",
    "num_measurements = pd.DataFrame(index=glacier_ids, columns=measurement_years).fillna(0)\n",
    "\n",
    "# Calculate the number of measurements for each glacier and year\n",
    "for idx in num_measurements.index:\n",
    "    temp = df_iceland.loc[df_iceland['RGIId'] == idx].groupby('yr')['stake'].count()\n",
    "    num_measurements.loc[idx, temp.index] = temp\n",
    "\n",
    "# Plotting\n",
    "plt.figure(figsize=(16, 8))\n",
    "heatmap = sns.heatmap(\n",
    "    data=num_measurements, \n",
    "    cmap='GnBu', \n",
    "    alpha=0.8, \n",
    "    cbar_kws={'label': 'Number of Measurements', 'pad': 0.005}, \n",
    "    annot=True, \n",
    "    annot_kws={'alpha': 0.9, 'fontsize': 10}, \n",
    "    linewidths=.5\n",
    ")\n",
    "\n",
    "# Customize plot appearance\n",
    "plt.xlabel('Year', fontsize=12)\n",
    "plt.ylabel('Glacier ID', fontsize=12)\n",
    "plt.title('Number of Stake Measurements per Glacier per Year', fontsize=14)\n",
    "plt.xticks(np.arange(len(measurement_years)) + 0.5, measurement_years, rotation=45, fontsize=10)\n",
    "plt.yticks(np.arange(len(glacier_ids)) + 0.5, glacier_ids, rotation=0, fontsize=10)\n",
    "plt.grid(False)\n",
    "plt.tight_layout()\n",
    "\n",
    "# Save the plot if PLOTTING is defined and True\n",
    "if 'PLOTTING' in globals() and PLOTTING:\n",
    "    plt.savefig(file_dir + 'plots/num_measurements_per_year_per_glacier.svg', dpi=600, format='svg')\n",
    "\n",
    "plt.show()\n",
    "plt.close()"
   ],
   "id": "776ec35940ec25fc",
   "execution_count": 5,
   "outputs": []
  },
  {
   "metadata": {},
   "cell_type": "markdown",
   "source": "### Stacked Bar Chart of Annual, Winter, and Summer Surface Mass Balance Measurements per Year",
   "id": "f39036586ab8c70e"
  },
  {
   "metadata": {
    "ExecuteTime": {
     "end_time": "2024-05-24T15:31:02.855512Z",
     "start_time": "2024-05-24T15:31:01.673164Z"
    }
   },
   "cell_type": "code",
   "source": [
    "# Group measurements by year for each type\n",
    "bw_num_measurements = df_iceland.groupby('yr')['bw_stratigraphic'].count()\n",
    "bs_num_measurements = df_iceland.groupby('yr')['bs_stratigraphic'].count()\n",
    "ba_num_measurements = df_iceland.groupby('yr')['ba_stratigraphic'].count()\n",
    "\n",
    "# Plotting\n",
    "plt.figure(figsize=(16, 6))\n",
    "\n",
    "# Plot Winter measurements\n",
    "plt.bar(\n",
    "    bw_num_measurements.index, \n",
    "    bw_num_measurements.values, \n",
    "    label='Winter', \n",
    "    color='#4e8cd9', \n",
    "    alpha=0.7\n",
    ")\n",
    "\n",
    "# Plot Summer measurements on top of Winter measurements\n",
    "plt.bar(\n",
    "    bs_num_measurements.index, \n",
    "    bs_num_measurements.values, \n",
    "    bottom=bw_num_measurements.values, \n",
    "    label='Summer', \n",
    "    color='#9c4b75', \n",
    "    alpha=0.7\n",
    ")\n",
    "\n",
    "# Plot Annual measurements on top of Winter and Summer measurements\n",
    "plt.bar(\n",
    "    ba_num_measurements.index, \n",
    "    ba_num_measurements.values, \n",
    "    bottom=bw_num_measurements.values + bs_num_measurements.values, \n",
    "    label='Annual', \n",
    "    color='#4b9c8d', \n",
    "    alpha=0.7\n",
    ")\n",
    "\n",
    "# Adding labels and title\n",
    "plt.xlabel('Year', fontsize=15)\n",
    "plt.ylabel('Number of Measurements', fontsize=15)\n",
    "plt.title('Total Number of Seasonal and Annual Measurements per Year', fontsize=17)\n",
    "\n",
    "# Setting tick parameters\n",
    "plt.xticks(ticks=bs_num_measurements.index, rotation=45, fontsize=12)\n",
    "plt.yticks(fontsize=12)\n",
    "\n",
    "# Centering x-axis labels\n",
    "ax = plt.gca()\n",
    "plt.setp(ax.xaxis.get_majorticklabels(), ha='center')\n",
    "\n",
    "# Adding legend\n",
    "plt.legend(fontsize=14)\n",
    "\n",
    "# Adjusting layout and grid\n",
    "plt.tight_layout()\n",
    "plt.grid(True, axis='y', linestyle='--', linewidth=0.7)\n",
    "plt.gca().xaxis.grid(False)\n",
    "\n",
    "# Save the plot if PLOTTING is defined and True\n",
    "if 'PLOTTING' in globals() and PLOTTING:\n",
    "    plt.savefig(file_dir + '/plots/num_measurements_per_year.svg', dpi=600, format='svg')\n",
    "\n",
    "plt.show()\n",
    "plt.close()"
   ],
   "id": "cf8bc356f7d5d28b",
   "execution_count": 6,
   "outputs": []
  },
  {
   "metadata": {},
   "cell_type": "markdown",
   "source": "### Create a 2D Histogram of the Three Key Topographical Features of Icelandic Glaciers Versus Annual Mass Balance",
   "id": "dc845e5cda2a6725"
  },
  {
   "metadata": {
    "ExecuteTime": {
     "end_time": "2024-05-24T15:31:02.864603Z",
     "start_time": "2024-05-24T15:31:02.856509Z"
    }
   },
   "cell_type": "code",
   "source": [
    "def create_joint_grid(df, y_var, title, y_label, log=False):\n",
    "    \"\"\"\n",
    "    Create a joint grid plot showing the relationship between annual mass balance and a given variable.\n",
    "\n",
    "    Parameters:\n",
    "        df (DataFrame): The DataFrame containing the data.\n",
    "        y_var (str): The name of the variable to be plotted against annual mass balance.\n",
    "        title (str): The title of the plot.\n",
    "        y_label (str): The label for the y-axis.\n",
    "        log (bool, optional): Whether to use a logarithmic scale on the y-axis. Defaults to False.\n",
    "    \"\"\"\n",
    "    sns.set_theme(style=\"ticks\")\n",
    "    \n",
    "    # Initialize the JointGrid\n",
    "    g = sns.JointGrid(data=df, x='ba_stratigraphic', y=y_var, marginal_ticks=True)\n",
    "    \n",
    "    # Create an inset legend for the histogram colorbar\n",
    "    cax = g.figure.add_axes([.15, .55, .02, .25])\n",
    "    \n",
    "    g.ax_joint.grid(True)\n",
    "    \n",
    "    if log:\n",
    "        g.ax_joint.set(yscale=\"log\")\n",
    "    \n",
    "    # Add the joint and marginal histogram plots\n",
    "    g.plot_joint(\n",
    "        sns.histplot, discrete=(True, False),\n",
    "        cmap=\"light:#4e8cd9\", pmax=.8, cbar=True, cbar_ax=cax\n",
    "    )\n",
    "    g.plot_marginals(sns.histplot, color=\"#4e8cd9\", linewidth=.5)\n",
    "    \n",
    "    plt.suptitle(f\"Annual Surface Mass Balance by {title}\", fontsize=14, y=1)\n",
    "    \n",
    "    g.set_axis_labels(\"Annual Surface Mass Balance [m w.e.]\", y_label)\n",
    "    \n",
    "    if 'PLOTTING' in globals() and PLOTTING:\n",
    "        plt.savefig(file_dir + f'plots/{title}.svg', dpi=600, format='svg')\n",
    "    plt.show()\n",
    "    plt.close()"
   ],
   "id": "18609282d7dbfd42",
   "execution_count": 7,
   "outputs": []
  },
  {
   "metadata": {
    "ExecuteTime": {
     "end_time": "2024-05-24T15:31:03.721200Z",
     "start_time": "2024-05-24T15:31:02.866586Z"
    }
   },
   "cell_type": "code",
   "source": "create_joint_grid(df_iceland, \"elevation\", \"Elevation\", \"Elevation [m]\")",
   "id": "c16ce10833b68344",
   "execution_count": 8,
   "outputs": []
  },
  {
   "metadata": {
    "ExecuteTime": {
     "end_time": "2024-05-24T15:31:04.778547Z",
     "start_time": "2024-05-24T15:31:03.722211Z"
    }
   },
   "cell_type": "code",
   "source": "create_joint_grid(df_iceland, \"slope\", \"Slope\", \"Slope [Rad]\", True)",
   "id": "7ed37b5331e56976",
   "execution_count": 9,
   "outputs": []
  },
  {
   "metadata": {
    "ExecuteTime": {
     "end_time": "2024-05-24T15:31:05.517591Z",
     "start_time": "2024-05-24T15:31:04.779541Z"
    }
   },
   "cell_type": "code",
   "source": "create_joint_grid(df_iceland, \"aspect\", \"Aspect\", \"Aspect [Rad]\", False)",
   "id": "836ed57ed065210c",
   "execution_count": 10,
   "outputs": []
  },
  {
   "metadata": {},
   "cell_type": "markdown",
   "source": "### Create a Correlation Matrix for Topographical and Climatological Features with Mass Balances",
   "id": "1ab33e4049861c33"
  },
  {
   "metadata": {
    "ExecuteTime": {
     "end_time": "2024-05-24T15:31:05.527585Z",
     "start_time": "2024-05-24T15:31:05.519587Z"
    }
   },
   "cell_type": "code",
   "source": [
    "# List of suffixes for summer and winter months\n",
    "summer_suffixes = ['_apr', '_may', '_jun', '_jul', '_aug', '_sep']\n",
    "winter_suffixes = ['_oct', '_nov', '_dec', '_jan', '_feb', '_mar']\n",
    "\n",
    "def calculate_seasonal_average(df):\n",
    "    \"\"\"\n",
    "    Filters the DataFrame columns based on specified suffixes and calculates averages for summer and winter chunks.\n",
    "\n",
    "    Parameters:\n",
    "        df (DataFrame): The DataFrame containing the data.\n",
    "\n",
    "    Returns:\n",
    "        tuple: A tuple containing two DataFrames:\n",
    "               - summer_avg: DataFrame with summer averages and additional columns.\n",
    "               - winter_avg: DataFrame with winter averages and additional columns.\n",
    "    \"\"\"\n",
    "    # Selecting columns based on the suffixes\n",
    "    summer_columns = [col for col in df.columns if col.endswith(tuple(summer_suffixes))]\n",
    "    winter_columns = [col for col in df.columns if col.endswith(tuple(winter_suffixes))]\n",
    "    \n",
    "    # Creating separate DataFrames for summer and winter columns\n",
    "    summer_cols = df[summer_columns]\n",
    "    winter_cols = df[winter_columns]\n",
    "    \n",
    "    # Calculating averages for summer and winter columns\n",
    "    summer_avg = calculate_average_for_season(summer_cols)\n",
    "    winter_avg = calculate_average_for_season(winter_cols)\n",
    "    \n",
    "    # Adding additional columns to summer and winter DataFrames\n",
    "    additional_columns = ['bw_stratigraphic', 'bs_stratigraphic', 'ba_stratigraphic']\n",
    "    summer_avg[additional_columns] = df[additional_columns]\n",
    "    winter_avg[additional_columns] = df[additional_columns]\n",
    "    \n",
    "    return summer_avg, winter_avg\n",
    "\n",
    "def calculate_average_for_season(df, chunk_size=6):\n",
    "    \"\"\"\n",
    "    Calculate the average for every chunk of columns, the average of each climate variable for each season, return this.\n",
    "\n",
    "    Parameters:\n",
    "        df (DataFrame): The DataFrame containing the climate variables.\n",
    "        chunk_size (int): The size of each chunk of columns.\n",
    "\n",
    "    Returns:\n",
    "        DataFrame: A new DataFrame containing the average value for each season, of each climate variable.\n",
    "    \"\"\"\n",
    "    # Reshape the DataFrame into chunks\n",
    "    chunks = np.array_split(df.values, -(-len(df.columns) // chunk_size), axis=1)\n",
    "\n",
    "    columns = [col_name[:-4] for col_name in df.columns.values]\n",
    "    columns = np.flip(np.unique(columns))\n",
    "    \n",
    "    # Calculate averages for each chunk and concatenate them\n",
    "    avg_chunks = [np.mean(chunk, axis=1) for chunk in chunks]\n",
    "    avg_df = pd.DataFrame(np.column_stack(avg_chunks), columns=columns) \n",
    "    \n",
    "    return avg_df"
   ],
   "id": "3bce81d21f49f004",
   "execution_count": 11,
   "outputs": []
  },
  {
   "metadata": {
    "ExecuteTime": {
     "end_time": "2024-05-24T15:31:05.579980Z",
     "start_time": "2024-05-24T15:31:05.532589Z"
    }
   },
   "cell_type": "code",
   "source": [
    "# List of columns to keep\n",
    "topo_columns = ['dis_from_border', 'slope', 'aspect', 'elevation', 'lon', 'lat', 'bw_stratigraphic','bs_stratigraphic', 'ba_stratigraphic']\n",
    "topo_ticks_labels = ['Distance\\nfrom Border', 'Slope', 'Aspect', 'Elevation', 'Longitude', 'Latitude']\n",
    "mbs_tick_labels= ['Winter SMB', 'Summer SMB','Annual SMB']\n",
    "\n",
    "# Copy the DataFrame and keep only the specified columns for the topographical features\n",
    "df_subset_iceland_topo = df_iceland[topo_columns].copy()\n",
    "df_subset_norway_topo = df_norway[topo_columns].copy()\n",
    "\n",
    "# Copy the DataFrame and keep only the specified columns for the climatological features\n",
    "df_subset_iceland_climate = df_iceland.copy()\n",
    "df_subset_norway_climate = df_norway.copy()\n",
    "\n",
    "# Calculate the average seasonal value for the 22 climate variables, for both Iceland and Norway\n",
    "summer_avg_IS, winter_avg_IS = calculate_seasonal_average(df_subset_iceland_climate)\n",
    "summer_avg_NR, winter_avg_NR = calculate_seasonal_average(df_subset_norway_climate)"
   ],
   "id": "52d019d7de64a524",
   "execution_count": 12,
   "outputs": []
  },
  {
   "metadata": {
    "ExecuteTime": {
     "end_time": "2024-05-24T15:39:05.664484Z",
     "start_time": "2024-05-24T15:39:05.649076Z"
    }
   },
   "cell_type": "code",
   "source": [
    "def plot_correlation_matrix(df1, df2, ticks_labels, suptitle, ax1_title, ax2_title, f_name, type_plot):\n",
    "    if type_plot == 'topo':\n",
    "        fig = plt.figure(figsize=(7, 11))\n",
    "        gs = gridspec.GridSpec(3, 1, height_ratios=[1, 1, 0.10], width_ratios=[1], hspace=.5)\n",
    "    else:\n",
    "        fig = plt.figure(figsize=(10, 7))\n",
    "        gs = gridspec.GridSpec(3, 1, height_ratios=[1, 1, 0.10], width_ratios=[1], hspace=0.1)\n",
    "\n",
    "    # Create subplots within the gridspec\n",
    "    ax1 = fig.add_subplot(gs[0])\n",
    "    ax2 = fig.add_subplot(gs[1])\n",
    "    cax = fig.add_subplot(gs[2])\n",
    "\n",
    "    # Generate a custom diverging colormap\n",
    "    cmap = sns.diverging_palette(20, 230, as_cmap=True)\n",
    "\n",
    "    variables_of_interest = ['bw_stratigraphic', 'bs_stratigraphic', 'ba_stratigraphic']\n",
    "    correlation_subset_df1 = df1.corr().loc[variables_of_interest].iloc[:, :-3]\n",
    "    correlation_subset_df2 = df2.corr().loc[variables_of_interest].iloc[:, :-3]\n",
    "\n",
    "    sns.heatmap(correlation_subset_df1, ax=ax1, cmap=cmap, cbar=False, vmin=-1, vmax=1, center=0,\n",
    "                square=True, linewidths=.5, yticklabels=mbs_tick_labels, xticklabels=ticks_labels)\n",
    "    sns.heatmap(correlation_subset_df2, ax=ax2, cmap=cmap, cbar=False, vmin=-1, vmax=1, center=0,\n",
    "                square=True, linewidths=.5, yticklabels=mbs_tick_labels, xticklabels=ticks_labels)\n",
    "\n",
    "    ax1.set_xticklabels(ax1.get_xticklabels(), rotation=45)\n",
    "    ax2.set_xticklabels(ax2.get_xticklabels(), rotation=45)\n",
    "    \n",
    "    ax1.set_yticklabels(ax1.get_yticklabels(), rotation=0)\n",
    "    ax2.set_yticklabels(ax2.get_yticklabels(), rotation=0)\n",
    "\n",
    "    plt.setp(ax1.xaxis.get_majorticklabels(), ha='right')\n",
    "    plt.setp(ax2.xaxis.get_majorticklabels(), ha='right')\n",
    "\n",
    "    ax1.set_title(ax1_title, fontsize=14)\n",
    "    ax2.set_title(ax2_title, fontsize=14)\n",
    "    fig.suptitle(suptitle, fontsize=16, y=.97)\n",
    "\n",
    "    # Add colorbar at the bottom of the plots\n",
    "    cb = fig.colorbar(ax2.get_children()[0], cax=cax, orientation='horizontal', location='bottom')\n",
    "    cb.outline.set_visible(False)\n",
    "    cb.ax.set_xlabel('Pearson Correlation')\n",
    "    cax.set_aspect('auto')\n",
    "\n",
    "    if type_plot == 'topo':\n",
    "        plt.tight_layout(h_pad=1)\n",
    "    else:\n",
    "        plt.tight_layout(h_pad=0)\n",
    "\n",
    "    if 'PLOTTING' in globals() and PLOTTING:\n",
    "        plt.savefig(f_name, dpi=600, format='svg', bbox_inches='tight')\n",
    "\n",
    "    plt.show()\n",
    "    plt.close(fig)"
   ],
   "id": "ea84d7a6892f8376",
   "execution_count": 34,
   "outputs": []
  },
  {
   "metadata": {
    "ExecuteTime": {
     "end_time": "2024-05-24T15:39:15.333381Z",
     "start_time": "2024-05-24T15:39:14.535312Z"
    }
   },
   "cell_type": "code",
   "source": [
    "# Iceland - Topographical Features\n",
    "plot_correlation_matrix(\n",
    "    df_subset_iceland_topo,\n",
    "    df_subset_norway_topo,\n",
    "    topo_ticks_labels,\n",
    "    'Pearson Correlation Matrix for Topographical Features\\nand Surface Mass Balances',\n",
    "    'Iceland',\n",
    "    'Norway',\n",
    "    file_dir + '/plots/corr_topo.svg',\n",
    "    'topo'\n",
    ")"
   ],
   "id": "b31703346f734606",
   "execution_count": 35,
   "outputs": []
  },
  {
   "metadata": {
    "ExecuteTime": {
     "end_time": "2024-05-24T15:39:24.515518Z",
     "start_time": "2024-05-24T15:39:23.128514Z"
    }
   },
   "cell_type": "code",
   "source": [
    "# Iceland - Climate - Averaged Seasonal\n",
    "climate_ticks_labels = [i for i in summer_avg_IS.columns[:-3]]\n",
    "\n",
    "plot_correlation_matrix(\n",
    "    summer_avg_IS, \n",
    "    winter_avg_IS,\n",
    "    climate_ticks_labels,\n",
    "    'Pearson Correlation Matrix for Averaged Seasonal Climatological Features\\nand Surface Mass Balances',\n",
    "    'Iceland - Summer',\n",
    "    'Iceland - Winter',\n",
    "    file_dir + 'plots/corr_climate_IS.svg',\n",
    "    'climate'\n",
    ")"
   ],
   "id": "843f30f67acb7d20",
   "execution_count": 36,
   "outputs": []
  },
  {
   "metadata": {
    "ExecuteTime": {
     "end_time": "2024-05-24T15:31:08.390952Z",
     "start_time": "2024-05-24T15:31:07.408908Z"
    }
   },
   "cell_type": "code",
   "source": [
    "plot_correlation_matrix(\n",
    "    summer_avg_NR, \n",
    "    winter_avg_NR,\n",
    "    climate_ticks_labels,\n",
    "    'Pearson Correlation Matrix for Averaged Seasonal Climatological Features\\nand Surface Mass Balances',\n",
    "    'Norway - Summer',\n",
    "    'Norway - Winter',\n",
    "    file_dir + 'plots/corr_climate_NR.svg',\n",
    "    'climate'\n",
    ")"
   ],
   "id": "1c0ad434a1763837",
   "execution_count": 16,
   "outputs": []
  },
  {
   "metadata": {},
   "cell_type": "markdown",
   "source": "### Create Histograms of Seasonal and Annual Mass Balances along with Topographical Aspects for Glaciers in Iceland and Norway\n",
   "id": "e1ed9a17b80a084f"
  },
  {
   "metadata": {
    "ExecuteTime": {
     "end_time": "2024-05-24T15:31:08.402940Z",
     "start_time": "2024-05-24T15:31:08.391949Z"
    }
   },
   "cell_type": "code",
   "source": [
    "def plot_dual_histograms(columns, axs_titles, x_labels, binwidths, titleplot, df1 = df_iceland, df2 = df_norway):\n",
    "    \"\"\"\n",
    "    Plot dual histograms comparing two datasets across multiple columns.\n",
    "    \n",
    "    Parameters:\n",
    "        df1 (DataFrame): The first dataset for comparison. Default is df_iceland.\n",
    "        df2 (DataFrame): The second dataset for comparison. Default is df_norway.\n",
    "        columns (list): List of column names to plot histograms for.\n",
    "        axs_titles (list): Titles for each subplot.\n",
    "        x_labels (list): Labels for the x-axis of each subplot.\n",
    "        binwidths (list): Bin widths for histograms.\n",
    "        titleplot (str): Title for the entire plot.\n",
    "    \n",
    "    Returns:\n",
    "        None\n",
    "    \"\"\"\n",
    "    \n",
    "    # Define height ratios for subplots\n",
    "    height_ratios = [1, 5]\n",
    "\n",
    "    # Create subplots with defined height ratios\n",
    "    fig, axs = plt.subplots(2, 3, figsize=(16, 6), gridspec_kw={'height_ratios': height_ratios})\n",
    "    axs = axs.T  # Transpose axes for convenient iteration\n",
    "\n",
    "    # Iterate over columns and corresponding subplot parameters\n",
    "    for ax, data, xlabel, title, binwidth in zip(axs, columns, x_labels, axs_titles, binwidths):\n",
    "        # Boxplot of concatenated data\n",
    "        sns.boxplot(data=pd.concat([df1[data], df2[data]], axis=1, keys=['Iceland', 'Norway']), orient=\"h\", ax=ax[0], palette=['#4e8cd9', '#4b9c8d'])\n",
    "\n",
    "        # Histograms for each dataset\n",
    "        sns.histplot(df1[data], ax=ax[1], binwidth=binwidth, color='#4e8cd9', alpha=0.5, label='Iceland')\n",
    "        sns.histplot(df2[data], ax=ax[1], binwidth=binwidth, color='#4b9c8d', alpha=0.5, label='Norway')\n",
    "\n",
    "        # Set xlabel, title, and tick parameters for histogram subplot\n",
    "        ax[1].set_xlabel(xlabel, fontsize=14)\n",
    "        ax[1].set_title(title, fontsize=17)\n",
    "        ax[1].tick_params(axis='x', labelsize=12)\n",
    "\n",
    "        # Disable y-axis labels for all but the first subplot\n",
    "        if ax[1] != axs[0][1]:\n",
    "            ax[1].set_ylabel(None)\n",
    "        ax[1].tick_params(axis='y', labelsize=12)\n",
    "\n",
    "    # Create legend handles and labels\n",
    "    labels_handles = {label: handle for ax in fig.axes for handle, label in zip(*ax.get_legend_handles_labels())}\n",
    "\n",
    "    # Place legend at the bottom horizontally\n",
    "    plt.figlegend(\n",
    "        labels_handles.values(),\n",
    "        labels_handles.keys(),\n",
    "        loc='lower center',\n",
    "        ncol=2,\n",
    "        labelspacing=0.,\n",
    "        bbox_to_anchor=(0, -.05, 1, 1),\n",
    "        bbox_transform=plt.gcf().transFigure\n",
    "    )\n",
    "\n",
    "    # Set main title and adjust layout\n",
    "    plt.suptitle(titleplot, fontsize=17)\n",
    "    plt.tight_layout()\n",
    "\n",
    "    # Save or show the plot based on savefig parameter\n",
    "    if 'PLOTTING' in globals() and PLOTTING:\n",
    "        plt.savefig(file_dir + f'plots/{titleplot}.svg', dpi=600, format='svg', bbox_inches='tight')\n",
    "        \n",
    "    plt.show()\n",
    "    plt.close(fig)"
   ],
   "id": "4745e48333c5af3b",
   "execution_count": 17,
   "outputs": []
  },
  {
   "metadata": {
    "ExecuteTime": {
     "end_time": "2024-05-24T15:40:43.045950Z",
     "start_time": "2024-05-24T15:40:41.371130Z"
    }
   },
   "cell_type": "code",
   "source": [
    "cols_topo = ['elevation', 'slope', 'aspect']\n",
    "labels_topo = ['Elevation [m] a.s.l.', 'Slope [Rad]', 'Aspect [Rad]']\n",
    "titles_topo = ['No. Points by Elevation', 'No. Points by Slope', 'No. Points by Aspect']\n",
    "fig_title_topo = '3 most Important Topographical Features Distributions of Glacier in Iceland and Norway'\n",
    "binwidths_topo = [150, 0.05, 0.5]\n",
    "\n",
    "plot_dual_histograms(cols_topo, titles_topo, labels_topo, binwidths_topo, fig_title_topo)"
   ],
   "id": "ca8feaf3f689dec3",
   "execution_count": 37,
   "outputs": []
  },
  {
   "metadata": {
    "ExecuteTime": {
     "end_time": "2024-05-24T15:31:11.881935Z",
     "start_time": "2024-05-24T15:31:10.094941Z"
    }
   },
   "cell_type": "code",
   "source": [
    "cols_mass_balance = ['bw_stratigraphic', 'bs_stratigraphic', 'ba_stratigraphic']\n",
    "labels_mass_balance = ['Surface Mass Balance [m w.e.]'] * 3\n",
    "titles_mass_balance = ['Freq. of Winter SMB', 'Freq. of Summer SMB', 'Freq. of Annual SMB']\n",
    "fig_title_mass_balance = 'Seasonal and Annual Surface Mass Balance Distributions of Glaciers in Iceland and Norway'\n",
    "binwidths_mass_balance = [.6, 1, 1]\n",
    "\n",
    "plot_dual_histograms(cols_mass_balance, titles_mass_balance, labels_mass_balance, binwidths_mass_balance, fig_title_mass_balance)"
   ],
   "id": "22811ae1888de550",
   "execution_count": 19,
   "outputs": []
  },
  {
   "metadata": {},
   "cell_type": "markdown",
   "source": "### Create a Time Series for All Stake Data in Iceland",
   "id": "c5af4d78951d95b5"
  },
  {
   "metadata": {
    "ExecuteTime": {
     "end_time": "2024-05-24T15:31:13.740413Z",
     "start_time": "2024-05-24T15:31:11.882984Z"
    }
   },
   "cell_type": "code",
   "source": [
    "# Load the climate data and get the mean t2m (temp. 2m above ground level), and average it per year and per area (longitude and latittude)\n",
    "with xr.open_dataset(file_dir + 'climate/ERA5_monthly_averaged_climate_data.nc') as ds_climate:\n",
    "    ds = ds_climate.t2m.resample(time=\"1y\").mean(dim=[\"time\", \"latitude\", \"longitude\"])\n",
    "    ds = ds.reduce(np.nansum, 'expver') \n",
    "    temps = ds.values - 273.15  # Convert to Celsius directly\n",
    "    temps = temps[:-1]  # Remove the last element\n",
    "    \n",
    "df_iceland_amb = df_iceland[['yr', 'stake', 'ba_stratigraphic']]\n",
    "\n",
    "# Calculate the mean and standard deviation of the annual mass balance for all stake data in Iceland\n",
    "mean_ba_per_year = df_iceland_amb.groupby('yr')['ba_stratigraphic'].mean()\n",
    "std_ba_per_year = df_iceland_amb.groupby('yr')['ba_stratigraphic'].std()"
   ],
   "id": "8d4df2a24c99f919",
   "execution_count": 20,
   "outputs": []
  },
  {
   "metadata": {
    "ExecuteTime": {
     "end_time": "2024-05-24T15:31:13.746391Z",
     "start_time": "2024-05-24T15:31:13.741416Z"
    }
   },
   "cell_type": "code",
   "source": [
    "def consecutive_nan(vals):\n",
    "    # Calculate the difference between consecutive years\n",
    "    year_diff = np.diff(vals)\n",
    "\n",
    "    # Check if there are any consecutive NaN values or if the difference between consecutive years is greater than 10 or less than 0\n",
    "    result = np.any((np.isnan(year_diff)) | (year_diff >= 10) | (year_diff < 0))\n",
    "    \n",
    "    return result"
   ],
   "id": "aa65708d58c00385",
   "execution_count": 21,
   "outputs": []
  },
  {
   "metadata": {
    "ExecuteTime": {
     "end_time": "2024-05-24T15:42:51.994831Z",
     "start_time": "2024-05-24T15:42:49.982390Z"
    }
   },
   "cell_type": "code",
   "source": [
    "# Set up the main figure and axis\n",
    "fig, ax = plt.subplots(figsize=(16, 8))\n",
    "ax2 = ax.twinx()  # Create a secondary y-axis\n",
    "\n",
    "# access legend objects automatically created from data\n",
    "handles, labels = plt.gca().get_legend_handles_labels()\n",
    "\n",
    "# Plot individual stake data\n",
    "for stake_name, group_data in df_iceland_amb.groupby('stake'):\n",
    "    if consecutive_nan(group_data.yr.values) or len(group_data.yr.values) <= 10:\n",
    "        continue\n",
    "    else: \n",
    "        ax.plot(group_data['yr'], group_data['ba_stratigraphic'], alpha=0.225, color='#4e8cd9', linewidth=0.9)\n",
    "\n",
    "# Plot mean annual mass balance with standard deviation shading\n",
    "mean_amb = ax.plot(mean_ba_per_year, linestyle='--', color='#ff7f0e', label='Mean Annual SMB', linewidth=3)\n",
    "std_amb = ax.fill_between(mean_ba_per_year.index, \n",
    "                           mean_ba_per_year - std_ba_per_year, \n",
    "                           mean_ba_per_year + std_ba_per_year, \n",
    "                           color='orange', alpha=0.3, label='Std Annual SMB')\n",
    "\n",
    "# Highlight significant events with scatter plots\n",
    "ax.scatter(x=2010, y=mean_ba_per_year[2010], color='#eb10d1', s=150, marker='^', alpha=0.8) \n",
    "ax.scatter(x=2015, y=mean_ba_per_year[2015], color='#eb10d1', s=150, marker='8', alpha=0.6) \n",
    "\n",
    "# Get min and max year from ds dataset\n",
    "min_year_ds = pd.Timestamp(ds.time.min().values).year\n",
    "max_year_ds = pd.Timestamp(ds.time.max().values).year\n",
    "\n",
    "# Plot temperature data on secondary y-axis\n",
    "ax2.plot(np.linspace(min_year_ds, max_year_ds, len(temps)), temps, dashes=[25, 5, 10, 5], color='#f73b3b', linewidth=2.5, label='Mean t2m')\n",
    "\n",
    "# Plot overall trendline\n",
    "overall_trend = np.polyfit(mean_ba_per_year.index, mean_ba_per_year.values, 1)\n",
    "overall_fit = np.poly1d(overall_trend)\n",
    "x_fit_overall = np.linspace(mean_ba_per_year.index.min(), mean_ba_per_year.index.max())\n",
    "ax.plot(x_fit_overall, overall_fit(x_fit_overall), linestyle='-.', marker='X', markevery=4, markersize=12, linewidth=2.5, \n",
    "        color='#4b9c8d', label=f'Mean Trendline (from {mean_ba_per_year.index.min()} to {mean_ba_per_year.index.max()})')\n",
    "\n",
    "# Plot recent trendline\n",
    "from_year = 2012\n",
    "max_year = np.max(mean_ba_per_year.index)\n",
    "recent_trend = np.polyfit(mean_ba_per_year.loc[from_year:max_year].index, mean_ba_per_year.loc[from_year:max_year].values, 1)\n",
    "recent_fit = np.poly1d(recent_trend)\n",
    "x_fit_recent = np.linspace(from_year, max_year)\n",
    "ax.plot(x_fit_recent, recent_fit(x_fit_recent), linestyle='-.', marker='p', markevery=6, markersize=12, linewidth=2.5, \n",
    "        color='#9c4b75', label=f'Mean Trendline (from {from_year} to {max_year})')\n",
    "\n",
    "# Combine legends from both axes\n",
    "ax.plot(np.NaN, np.NaN, '-',  alpha=0.225, color='#4e8cd9', linewidth=0.9, label='Annual SMB per Stake')\n",
    "handles1, labels1 = ax.get_legend_handles_labels()\n",
    "handles2, labels2 = ax2.get_legend_handles_labels()\n",
    "ax.legend(handles=handles1 + handles2, labels=labels1 + labels2, loc='lower left')\n",
    "\n",
    "# Set titles and labels\n",
    "plt.title(f'Annual SMB for All Stakes and Mean Air Temperature from {np.min(mean_ba_per_year.index)} to {np.max(mean_ba_per_year.index)}', fontsize=17)\n",
    "ax.set_xlabel('Year', fontsize=15)\n",
    "ax.set_ylabel('Annual SMB [m w.e.]', fontsize=15)\n",
    "ax2.set_ylabel('Mean Temperature [°C]', fontsize=15, rotation=-90, labelpad=17.5)\n",
    "\n",
    "# Adjust tick parameters\n",
    "ax.xaxis.set_tick_params(labelsize=15)\n",
    "ax.yaxis.set_tick_params(labelsize=15, colors='#ff7f0e')\n",
    "ax2.yaxis.set_tick_params(labelsize=15, colors='#f73b3b')\n",
    "\n",
    "# Add grid, set limits, and layout adjustments\n",
    "ax.set_xlim(left=np.min(mean_ba_per_year.index), right=np.max(mean_ba_per_year.index))\n",
    "ax.set_ylim(bottom=-8, top=5)\n",
    "ax2.set_ylim(bottom=-8, top=5)\n",
    "\n",
    "# Color adjustments\n",
    "ax.yaxis.label.set_color('#ff7f0e')     \n",
    "ax2.yaxis.label.set_color('#f73b3b')    \n",
    "\n",
    "# Annotations\n",
    "ax.annotate(\"Eruption Eyjafjallajökull Volcano\",\n",
    "            xy=(2010, mean_ba_per_year[2010]-0.15), xycoords='data',\n",
    "            xytext=(2012, mean_ba_per_year[2010]-3), textcoords='data', size=14, va=\"center\", ha=\"left\",\n",
    "            arrowprops=dict(arrowstyle=\"->, head_width=0.4\", connectionstyle=\"arc3,rad=-.5\", color='black'), color='#eb10d1')\n",
    "ax.annotate(\"Record High Avg. Temp. in 2015 Since 1880\",\n",
    "            xy=(2015, mean_ba_per_year[2015]+0.15), xycoords='data',\n",
    "            xytext=(2013, mean_ba_per_year[2015]+3), textcoords='data', size=14, va=\"center\", ha=\"right\",\n",
    "            arrowprops=dict(arrowstyle=\"->, head_width=0.4\", connectionstyle=\"arc3,rad=-.5\", color='black'), color='#eb10d1')\n",
    "\n",
    "plt.grid(False)\n",
    "ax.grid(False)\n",
    "ax.yaxis.grid(color='gray', linestyle='-', alpha=0.3)\n",
    "\n",
    "# Save and display the plot\n",
    "if 'PLOTTING' in globals() and PLOTTING:\n",
    "    plt.savefig(file_dir + f'plots/timeseries.svg', dpi=600, format='svg', bbox_inches='tight')\n",
    "plt.show()\n",
    "plt.close(fig)"
   ],
   "id": "13ad0edf496fd57f",
   "execution_count": 38,
   "outputs": []
  },
  {
   "metadata": {},
   "cell_type": "markdown",
   "source": "### Create a Hypsometry Plot and Stake Distribution for the Glaciers in Iceland",
   "id": "4f46a8098571aa94"
  },
  {
   "metadata": {
    "ExecuteTime": {
     "end_time": "2024-05-24T15:31:15.805629Z",
     "start_time": "2024-05-24T15:31:14.727443Z"
    }
   },
   "cell_type": "code",
   "source": [
    "# Read data\n",
    "areas_rgiids = pd.read_csv(file_dir + 'files/areas_rgiids.csv')\n",
    "joined_dfs = pd.merge(df_iceland, areas_rgiids, on='RGIId')\n",
    "\n",
    "# Define elevation bins\n",
    "elevation_bins = np.arange(0, 1800, 100)\n",
    "\n",
    "# Aggregate area data by elevation bins\n",
    "joined_dfs['elevation_bin'] = pd.cut(joined_dfs['elevation'], bins=elevation_bins, right=False)\n",
    "area_distribution = joined_dfs.groupby('elevation_bin')['area'].sum()\n",
    "\n",
    "# Calculate median and IQR\n",
    "median_elevation = np.median(joined_dfs['elevation'])\n",
    "lower_quartile = np.percentile(joined_dfs['elevation'], 25)\n",
    "upper_quartile = np.percentile(joined_dfs['elevation'], 75)\n",
    "iqr = upper_quartile - lower_quartile\n",
    "\n",
    "# Aggregate stakes data by elevation bins\n",
    "stakes_distribution = joined_dfs['elevation_bin'].value_counts().sort_index()\n",
    "\n",
    "# Plotting\n",
    "fig, ax1 = plt.subplots(figsize=(10, 8))\n",
    "\n",
    "# Primary x-axis and bar plot for area distribution\n",
    "ax1.barh(area_distribution.index.astype(str), area_distribution.values, color='#4e8cd9', alpha=0.7)\n",
    "ax1.set_xlabel('Total Area [km²]', fontsize=12)\n",
    "ax1.set_ylabel('Elevation [m]', fontsize=12)\n",
    "ax1.set_title('Glacier Area and Stake Distribution by Elevation in Iceland', fontsize=15)\n",
    "ax1.set_yticks(np.arange(len(area_distribution)))\n",
    "ax1.set_yticklabels([f'{int(bin.left)}-{int(bin.right)} m' for bin in area_distribution.index])\n",
    "ax1.axhline(y=median_elevation // 100, linestyle='--', color='#9c4b75', label=f'Median Elevation per Tot. Area: {median_elevation} m', linewidth=2)\n",
    "ax1.axhline(y=(median_elevation + iqr) // 100, linestyle='-.', color='#4b9c8d', label=f'Median Elevation per Tot. Area + IQR', linewidth=2)\n",
    "ax1.axhline(y=(median_elevation - iqr) // 100, linestyle='-.', color='#4b9c8d', label=f'Median Elevation per Tot. Area - IQR', linewidth=2)\n",
    "ax1.legend()\n",
    "\n",
    "# Secondary x-axis and histogram for stakes count\n",
    "ax2 = ax1.twiny()\n",
    "ax2.barh(stakes_distribution.index.astype(str), stakes_distribution.values, color='#9c4b75', alpha=0.3)\n",
    "ax2.set_xlabel('Number of Stakes', fontsize=12)\n",
    "\n",
    "ax1.xaxis.set_tick_params(labelsize=12, colors='#4e8cd9')\n",
    "ax2.xaxis.set_tick_params(labelsize=12, colors='#9c4b75')\n",
    "\n",
    "# Color adjustments\n",
    "ax1.xaxis.label.set_color('#4e8cd9')     \n",
    "ax2.xaxis.label.set_color('#9c4b75')  \n",
    "\n",
    "# Adjust layout and grid\n",
    "plt.tight_layout()\n",
    "ax1.grid(True, axis='x', linestyle='--', linewidth=0.7)\n",
    "ax1.yaxis.grid(False)\n",
    "plt.grid(False)\n",
    "\n",
    "if 'PLOTTING' in globals() and PLOTTING:\n",
    "    plt.savefig(file_dir + f'plots/hypsometry_with_stakes.svg', dpi=600, format='svg', bbox_inches='tight')\n",
    "plt.show()\n",
    "plt.close(fig)"
   ],
   "id": "539f3cf16f753260",
   "execution_count": 23,
   "outputs": []
  }
 ],
 "metadata": {
  "kernelspec": {
   "display_name": "Python 3",
   "language": "python",
   "name": "python3"
  },
  "language_info": {
   "codemirror_mode": {
    "name": "ipython",
    "version": 2
   },
   "file_extension": ".py",
   "mimetype": "text/x-python",
   "name": "python",
   "nbconvert_exporter": "python",
   "pygments_lexer": "ipython2",
   "version": "2.7.6"
  }
 },
 "nbformat": 4,
 "nbformat_minor": 5
}
