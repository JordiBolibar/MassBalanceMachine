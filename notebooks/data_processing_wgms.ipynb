{
 "cells": [
  {
   "cell_type": "markdown",
   "id": "3aa88805730566c5",
   "metadata": {},
   "source": [
    "# MassBalanceMachine Data Processing - Example for Retrieving Training Features for the Norway Region (WGMS)\n",
    "\n",
    "In this notebook, we will demonstrate the data processing workflow of the MassBalanceMachine using an example with glaciological data from Norwegian glaciers. This example will guide you through the data processing pipeline, which retrieves topographical and meteorological features for all points with glaciological surface mass balance observations.\n",
    "\n",
    "We begin by importing some basic libraries along with the ```massbalancemachine``` library. Next, we specify the location where we will store the files for the region of interest (in this case, Norway). The data used in this example is from the [WGMS database](https://wgms.ch/data_databaseversions/), and we will utilize the specified columns.\n",
    "\n",
    "**Note:** It's important to note that WGMS data can contain errors, please check the data for correctness before using it.    \n",
    "\n",
    "**Note:** All data, stake measurements and glaciers outlines, are expected to have the WGS84 CRS."
   ]
  },
  {
   "cell_type": "code",
   "id": "7f184536",
   "metadata": {},
   "source": [
    "import pandas as pd\n",
    "import geopandas as gpd\n",
    "\n",
    "import massbalancemachine as mbm"
   ],
   "outputs": [],
   "execution_count": null
  },
  {
   "cell_type": "markdown",
   "id": "77de54d4",
   "metadata": {},
   "source": [
    "## 1. Load your Target Surface Mass Balance Dataset and Retrieve RGI ID per Stake\n",
    "\n",
    "In this step, we define and load our glaciological data from a region of interest. The WGMS dataset does not include RGI IDs by default, so we need to retrieve them from a glacier outline shapefile provided by the Randolph Glacier Inventory (v6). Each stake is then matched with an RGI ID. The RGI ID is necessary for the MassBalanceMachine to add additional topographical and meteorological features for training stage.\n",
    "\n",
    "**How to Retrieve the Glacier Outlines:** Download the shapefiles for the region of interest from this [link](https://daacdata.apps.nsidc.org/pub/DATASETS/nsidc0770_rgi_v6/). Extract the files and copy the .shp, .prj, .shx, and .dbf files in the correct directory so that you can use it with the Jupyter Notebook. Also, make sure you point to the correct directory and files in the next code cell.\n",
    "\n",
    "**Note:** Data records that have an invalid FROM_DATE or TO_DATE, where the day is indicated as 99, are deleted from the dataset."
   ]
  },
  {
   "cell_type": "code",
   "id": "b852c00e",
   "metadata": {},
   "source": [
    "# Specify the filename of the input file with the raw data\n",
    "target_data_fname = './example_data/norway/files/norway_wgms_dataset.csv'\n",
    "# Specify the shape filename of the glaciers outline obtained from RGIv6\n",
    "glacier_outline_fname = './example_data/norway/glacier_outlines/08_rgi60_Scandinavia.shp'\n",
    "\n",
    "# Load the target data and the glacier outlines\n",
    "data = pd.read_csv(target_data_fname)\n",
    "glacier_outline = gpd.read_file(glacier_outline_fname)"
   ],
   "outputs": [],
   "execution_count": null
  },
  {
   "cell_type": "markdown",
   "id": "8327db51d203f25f",
   "metadata": {},
   "source": [
    "### 1.1 Match the Stake Measurements with a RGI ID\n",
    "\n",
    "Based on the location of the stake measurement given by POINT_LAT and POINT_LON, each data record is matched with the RGI ID for the glacier where the stake is located."
   ]
  },
  {
   "cell_type": "code",
   "id": "173deb09497efa60",
   "metadata": {},
   "source": [
    "# Get the RGI ID for each stake measurement for the region of interest\n",
    "data = mbm.utils.get_rgi(data, glacier_outline)"
   ],
   "outputs": [],
   "execution_count": null
  },
  {
   "cell_type": "markdown",
   "id": "541a28b3c26caa3",
   "metadata": {},
   "source": [
    "Then, we can create a MassBalanceMachine `Dataset`, by using the loaded dataframe for Norway stake data together with the matched RGI IDs, as such: "
   ]
  },
  {
   "cell_type": "code",
   "id": "fe9f70525056f75f",
   "metadata": {},
   "source": [
    "# Provide the column name for the column that has the RGI IDs for each of the stakes\n",
    "dataset = mbm.Dataset(data=data, data_path='./example_data/norway/files/')"
   ],
   "outputs": [],
   "execution_count": null
  },
  {
   "cell_type": "markdown",
   "id": "045122a5",
   "metadata": {},
   "source": [
    "## 2. Get Topographical Features per Stake Measurement\n",
    "\n",
    "Once we have created a `Dataset`, the first thing we can do is to add topographical data in our dataset. This can be done automatically with the MassBalanceMachine (which calls OGGM) by doing the following:"
   ]
  },
  {
   "cell_type": "code",
   "id": "6ab47703",
   "metadata": {},
   "source": [
    "# Specify the topographical features of interest \n",
    "# Please see the OGGM documentation what variables are available: https://oggm.org/tutorials/stable/notebooks/10minutes/machine_learning.html ('topo', 'slope_factor', 'dis_from_border')\n",
    "voi_topographical = ['aspect', 'slope']\n",
    "\n",
    "# Retrieve the topographical features for each of the stake measurement and add them to the dataset\n",
    "dataset.get_topo_features(voi_topographical)"
   ],
   "outputs": [],
   "execution_count": null
  },
  {
   "cell_type": "markdown",
   "id": "9430dbbd531b138",
   "metadata": {},
   "source": [
    "## 3. Get Meteorological Features per Stake Measurement\n",
    "\n",
    "Once we have the topographical data, we can add the necessary climate data for the dataset. This is done by pulling that from ERA5-Land database for the region of interest. Before the climate data is matched with the stake measurements, we need to manually download the climate data for the region of interest from [climate Copernicus website](https://cds.climate.copernicus.eu/cdsapp#!/dataset/reanalysis-era5-land-monthly-means?tab=form). Check the following options:\n",
    "\n",
    "- **Product type:** _Monthly averaged reanalysis_\n",
    "- **Variable**:\n",
    "    - _2m temperature_ (t2m)\n",
    "    - _total precipitation_ (tp)\n",
    "    - _surface latent heat flux_ (slhf)  \n",
    "    - _surface sensible heat flux_ (sshf)\n",
    "    - _surface solar radiation downwards_ (ssrd)\n",
    "    - _forecast albedo_ (fal)\n",
    "    - _surface net thermal radiation_ (str)\n",
    "    - You can explore additional options as you prefer. In this example, we use the variables listed above.\n",
    "- **Year**: _Select all_\n",
    "- **Month**: _Select all_\n",
    "- **Time**: _Select all_\n",
    "- **Geographical area**: \n",
    "- **Format:** _NetCDF-3_\n",
    "\n",
    "Then click _Submit Request_ (after you have registered or logged into your account). Please be aware that downloading this data can take up to several hours, depending on the number of variables, timescales, and the area selected. Once the download is complete, place the netCDF file in the correct directory and rename it accordingly.\n",
    "\n",
    "Additionally, we need the _geopotential height_ as an extra variable in our dataset. We will calculate a new variable by determining the difference between the geopotential height and the elevation at the stake measurement. The purpose of this height difference is to encourage the model to use it for downscaling the ERA5Land climate data, rather than relying on the lapse rate. The geopotential is downloaded from [here](https://confluence.ecmwf.int/display/CKB/ERA5-Land%3A+data+documentation#ERA5Land:datadocumentation-parameterlistingParameterlistings), and is already included in this example.   "
   ]
  },
  {
   "cell_type": "code",
   "id": "b20c314b",
   "metadata": {},
   "source": [
    "# Specify the files of the climate data, that will be matched with the coordinates of the stake data\n",
    "era5_climate_data = './example_data/norway/climate/era5_monthly_averaged_data.nc'\n",
    "geopotential_data = './example_data/norway/climate/era5_geopotential_pressure.nc'\n",
    "\n",
    "# Match the climate features, from the ERA5Land netCDF file, for each of the stake measurement dataset\n",
    "dataset.get_climate_features(era5_climate_data, geopotential_data)"
   ],
   "outputs": [],
   "execution_count": null
  },
  {
   "cell_type": "markdown",
   "id": "dbe4fa9fa2ff6c55",
   "metadata": {},
   "source": [
    "## 4. Transform Data to Monthly Resolution\n",
    "\n",
    "Finally, we need to transform the dataset into a monthly resolution, accounting for a variable period for the SMB target data. This will be done in order to perform SMB predictions at a monthly time step, which then will be integrated both in time and space to match the available glaciological and geodetic SMB observations for the training. Please specify the climate variables used in the previous step in the list below. Consult the [documentation](https://confluence.ecmwf.int/display/CKB/ERA5-Land%3A+data+documentation) of all short names of the climate variables."
   ]
  },
  {
   "cell_type": "code",
   "id": "a5c40243a95f88f9",
   "metadata": {},
   "source": [
    "voi_climate = ['t2m', 'tp', 'slhf', 'sshf', 'ssrd', 'fal', 'srt']\n",
    "\n",
    "dataset.convert_to_monthly(voi_climate, voi_topographical)"
   ],
   "outputs": [],
   "execution_count": null
  },
  {
   "cell_type": "markdown",
   "id": "63c4f78689b849e4",
   "metadata": {},
   "source": [
    "Finally, we can take a look at the dataset which will be used for training."
   ]
  },
  {
   "metadata": {},
   "cell_type": "code",
   "source": "display(dataset.data)",
   "id": "7b6edf2f9025c61b",
   "outputs": [],
   "execution_count": null
  }
 ],
 "metadata": {
  "kernelspec": {
   "display_name": "Python 3 (ipykernel)",
   "language": "python",
   "name": "python3"
  },
  "language_info": {
   "codemirror_mode": {
    "name": "ipython",
    "version": 3
   },
   "file_extension": ".py",
   "mimetype": "text/x-python",
   "name": "python",
   "nbconvert_exporter": "python",
   "pygments_lexer": "ipython3",
   "version": "3.12.4"
  }
 },
 "nbformat": 4,
 "nbformat_minor": 5
}
