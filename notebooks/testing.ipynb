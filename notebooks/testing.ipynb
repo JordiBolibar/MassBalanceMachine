{
 "cells": [
  {
   "cell_type": "code",
   "id": "initial_id",
   "metadata": {
    "collapsed": true
   },
   "source": [
    "import massbalancemachine as mbm\n",
    "import pandas as pd\n",
    "from sklearn.model_selection import GridSearchCV"
   ],
   "outputs": [],
   "execution_count": null
  },
  {
   "metadata": {},
   "cell_type": "code",
   "source": [
    "df = pd.read_csv('./example_data/iceland/files/iceland_monthly_dataset.csv')\n",
    "df.dropna(axis=0, how='any', inplace=True)"
   ],
   "id": "6bd19a5cd5656620",
   "outputs": [],
   "execution_count": null
  },
  {
   "metadata": {},
   "cell_type": "code",
   "source": "dataloader = mbm.DataLoader(data=df)",
   "id": "8eedc85b96f8ead9",
   "outputs": [],
   "execution_count": null
  },
  {
   "metadata": {},
   "cell_type": "code",
   "source": "train_itr, test_itr = dataloader.set_train_test_split()",
   "id": "fc9f17982600586e",
   "outputs": [],
   "execution_count": null
  },
  {
   "metadata": {},
   "cell_type": "code",
   "source": "splits = dataloader.get_cv_split()",
   "id": "3d9f253bb3d15d94",
   "outputs": [],
   "execution_count": null
  },
  {
   "metadata": {},
   "cell_type": "code",
   "source": [
    "parameters = {\n",
    "    'max_depth': [3, 4, 5,],\n",
    "    'learning_rate': [0.01, 0.1],\n",
    "    'n_estimators': [100, 200],\n",
    "    'gamma':[0, 1]\n",
    "}\n",
    "\n",
    "clf = GridSearchCV(\n",
    "    estimator=...,\n",
    "    param_grid=parameters,\n",
    "    cv=splits,\n",
    "    verbose=10, \n",
    "    n_jobs=-1, \n",
    "    refit=True, \n",
    "    return_train_score=True,\n",
    "    error_score='raise'\n",
    ")\n",
    "\n",
    "# Fit using features\n",
    "clf.fit(..., ...)"
   ],
   "id": "90b3265904da4425",
   "outputs": [],
   "execution_count": null
  },
  {
   "metadata": {},
   "cell_type": "code",
   "source": "",
   "id": "a7a130670559b218",
   "outputs": [],
   "execution_count": null
  }
 ],
 "metadata": {
  "kernelspec": {
   "display_name": "Python 3",
   "language": "python",
   "name": "python3"
  },
  "language_info": {
   "codemirror_mode": {
    "name": "ipython",
    "version": 2
   },
   "file_extension": ".py",
   "mimetype": "text/x-python",
   "name": "python",
   "nbconvert_exporter": "python",
   "pygments_lexer": "ipython2",
   "version": "2.7.6"
  }
 },
 "nbformat": 4,
 "nbformat_minor": 5
}
