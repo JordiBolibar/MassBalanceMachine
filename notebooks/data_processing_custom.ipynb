{
 "cells": [
  {
   "cell_type": "markdown",
   "id": "3aa88805730566c5",
   "metadata": {},
   "source": [
    "# MassBalanceMachine Data Processing - Example for Importing Custom Data for the Iceland Region\n",
    "\n",
    "In this notebook, the data processing workflow of the MassBalanceMachine will be outlined through an example with glaciological data from glaciers in Iceland. This example will help you understand how to use the data processing pipeline, that retrieves topographical and meteorological features for the all points with glaciological surface mass balance observations.\n",
    "\n",
    "We start by importing some basic libraries, as well as the `massbalancemachine`. Then, we specify where we will place the files for the region where we will be working on (in this case, Iceland). "
   ]
  },
  {
   "cell_type": "code",
   "id": "7f184536",
   "metadata": {
    "ExecuteTime": {
     "end_time": "2024-07-03T12:56:15.609402Z",
     "start_time": "2024-07-03T12:56:12.417619Z"
    }
   },
   "source": [
    "import re\n",
    "import os\n",
    "import pandas as pd\n",
    "\n",
    "import massbalancemachine as mbm\n",
    "\n",
    "FILE_DIR = '.././regions/iceland/mbm/data/files/'"
   ],
   "outputs": [],
   "execution_count": 1
  },
  {
   "cell_type": "markdown",
   "id": "77de54d4",
   "metadata": {},
   "source": [
    "## 1. Define and Load your Target Surface Mass Balance Dataset\n",
    "\n",
    "**Expected columns in the dataset (per stake):** longitude ('lon'), latitude ('lat'), RGI ID, and the hydrological year of the measurement. \n",
    "\n",
    "When working with custom glaciological data from a region of interest, first we need to import our dataset, which will be processed by the MassBalanceMachine to add additional topographical and climatic features for training. \n",
    "\n",
    "We load the dataset using `pandas`, and we take a look at it."
   ]
  },
  {
   "cell_type": "code",
   "id": "b852c00e",
   "metadata": {},
   "source": [
    "# Specify the filename of the input file with the raw data\n",
    "input_target_fname = 'Iceland_Stake_Data_Reprojected.csv'\n",
    "# Construct the full file path\n",
    "input_file_path = os.path.join(FILE_DIR, input_target_fname)\n",
    "\n",
    "df = pd.read_csv(input_file_path)\n",
    "\n",
    "# Inspect the dataframe\n",
    "display(df)"
   ],
   "outputs": [],
   "execution_count": null
  },
  {
   "cell_type": "markdown",
   "id": "37649df3f52d9332",
   "metadata": {},
   "source": [
    "Then, we can create a MassBalanceMachine `Dataset`, by using the loaded `DataFrame`, specifying the column tag for the RGI IDs, and (optionally) specifying for which region are we working. "
   ]
  },
  {
   "cell_type": "code",
   "id": "2c53192244f39098",
   "metadata": {},
   "source": [
    "# Provide the column name for the column that has the RGI IDs for each of the stakes\n",
    "dataset = mbm.Dataset(df, 'RGIId', FILE_DIR)"
   ],
   "outputs": [],
   "execution_count": null
  },
  {
   "cell_type": "markdown",
   "id": "045122a5",
   "metadata": {},
   "source": [
    "## 2. Get the Topographical Features per Stake\n",
    "\n",
    "Once we have created a `Dataset`, the first thing we can do is to add topographical data in our dataset. This can be done automatically with the MassBalanceMachine (which calls OGGM) by doing the following:"
   ]
  },
  {
   "cell_type": "code",
   "id": "6ab47703",
   "metadata": {},
   "source": [
    "# Specify the output filename to save the intermediate results\n",
    "output_topo_fname = 'Iceland_Stake_Data_T_Attributes.csv'\n",
    "\n",
    "# Specify the topographical features of interest \n",
    "vois_topo_columns = ['topo', 'aspect', 'slope', 'slope_factor', 'dis_from_border']\n",
    "\n",
    "# Retrieve the topographical features for each of the stake measurement in the dataset\n",
    "dataset.get_topo_features(output_topo_fname, vois_topo_columns)"
   ],
   "outputs": [],
   "execution_count": null
  },
  {
   "cell_type": "markdown",
   "id": "9430dbbd531b138",
   "metadata": {},
   "source": [
    "## 3. Get the Meteorological Features per Stake\n",
    "\n",
    "Once we have the topographical data, we can add the necessary climate data for the dataset. This is done by pulling that from ERA5-Land. MassBalanceMachine automatically handles this for the region of interest where the glaciers are."
   ]
  },
  {
   "cell_type": "code",
   "id": "b20c314b",
   "metadata": {},
   "source": [
    "# Specify the directory and the files of the climate data, that will be matched with the coordinates of the stake data\n",
    "input_era5_fname = '.././regions/iceland/mbm/data/climate/ERA5_monthly_averaged_climate_data.nc'\n",
    "input_gp_fname = '.././regions/iceland/mbm/data/climate/ERA5_geopotential_pressure.nc'\n",
    "\n",
    "# Specify the output filename to save the intermediate results\n",
    "output_climate_fname = 'Iceland_Stake_Data_Climate.csv'\n",
    "\n",
    "# Retrieve the topographical features for each of the stake measurement in the dataset\n",
    "dataset.get_climate_features(output_climate_fname, input_era5_fname, input_gp_fname, 'd3')"
   ],
   "outputs": [],
   "execution_count": null
  },
  {
   "cell_type": "markdown",
   "id": "dbe4fa9fa2ff6c55",
   "metadata": {},
   "source": [
    "## 4. Transform Data to Monthly Resolution\n",
    "\n",
    "Finally, we need to transform the dataset into a monthly resolution. This will be done in order to perform SMB predictions at a monthly time step, which then will be integrate both in time and space to match the available glaciological and geodetic SMB observations for the training. "
   ]
  },
  {
   "cell_type": "code",
   "id": "a5c40243a95f88f9",
   "metadata": {},
   "source": [
    "# Define which columns are of interest (vois: variables of interest), please see the metadata file for the ERA5-Land data with all the variable names\n",
    "vois_climate = ['t2m', 'tp', 'sshf', 'slhf', 'ssrd', 'fal', 'str']\n",
    "\n",
    "vois_topo_columns = ['topo', 'aspect', 'slope', 'slope_factor', 'dis_from_border']\n",
    "\n",
    "\n",
    "# Create a dictionary of all the columns in the dataset that match the variables of interest of the ERA5-Land data\n",
    "vois_climate_columns = {voi: [col for col in df.columns.values if re.match(f'{voi}_[a-zA-Z]*', col)] for voi in vois_climate}\n",
    "\n",
    "# Specify the column names for the seasonal (winter and summer) and annual mass balance columns in the dataset\n",
    "smb_column_names = ['ba_stratigraphic', 'bw_stratigraphic', 'bs_stratigraphic']\n",
    "\n",
    "misc_column_names = ['yr']\n",
    "\n",
    "# Specify the output filename to save the intermediate results\n",
    "output_climate_fname = 'Iceland_Stake_Data_Monthly.csv'\n",
    "\n",
    "dataset.convert_to_monthly(output_climate_fname, vois_climate_columns, vois_topo_columns, smb_column_names, misc_column_names)"
   ],
   "outputs": [],
   "execution_count": null
  },
  {
   "cell_type": "markdown",
   "id": "63c4f78689b849e4",
   "metadata": {},
   "source": [
    "Finally, we can take a look at the dataset which will be used for training."
   ]
  },
  {
   "cell_type": "code",
   "id": "119beb4042d90b13",
   "metadata": {},
   "source": [
    "display(dataset.df)"
   ],
   "outputs": [],
   "execution_count": null
  },
  {
   "cell_type": "code",
   "id": "cad10223-a7f7-4179-96ff-51a58a8436ef",
   "metadata": {},
   "source": [],
   "outputs": [],
   "execution_count": null
  }
 ],
 "metadata": {
  "kernelspec": {
   "display_name": "Python 3 (ipykernel)",
   "language": "python",
   "name": "python3"
  },
  "language_info": {
   "codemirror_mode": {
    "name": "ipython",
    "version": 3
   },
   "file_extension": ".py",
   "mimetype": "text/x-python",
   "name": "python",
   "nbconvert_exporter": "python",
   "pygments_lexer": "ipython3",
   "version": "3.12.4"
  }
 },
 "nbformat": 4,
 "nbformat_minor": 5
}
