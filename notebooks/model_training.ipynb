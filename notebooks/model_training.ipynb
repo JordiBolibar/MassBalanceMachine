{
 "cells": [
  {
   "metadata": {},
   "cell_type": "markdown",
   "source": "# MassBalanceMachine Model Training - Example for the Iceland Region",
   "id": "201e61a3dd0c0186"
  },
  {
   "metadata": {},
   "cell_type": "code",
   "source": [
    "import massbalancemachine as mbm\n",
    "from sklearn.model_selection import GridSearchCV\n",
    "import pandas as pd\n",
    "import sklearn\n",
    "import numpy as np"
   ],
   "id": "b6c8e565918ac651",
   "outputs": [],
   "execution_count": null
  },
  {
   "metadata": {},
   "cell_type": "code",
   "source": "dataset = pd.read_csv('./example_data/iceland/files/region_monthly.csv')",
   "id": "5b8df3f652285622",
   "outputs": [],
   "execution_count": null
  },
  {
   "metadata": {},
   "cell_type": "code",
   "source": [
    "# Select features for training\n",
    "df_X_train = dataset.drop(['YEAR', 'POINT_BALANCE'], axis=1)\n",
    "\n",
    "# Move id and n_months to the end of the dataframe (these are used as metadata)\n",
    "# Columns to move to the end\n",
    "metadata_columns = ['ID', 'N_MONTHS', 'MONTH']\n",
    "\n",
    "# Reindex the DataFrame, moving the specified columns to the end\n",
    "df_X_train = df_X_train[[col for col in df_X_train.columns if col not in metadata_columns] + metadata_columns]\n",
    "\n",
    "# Select the targets for training\n",
    "df_y_train = dataset[['POINT_BALANCE']]\n",
    "\n",
    "# Get arrays of features+metadata and targets\n",
    "X_train, y_train = df_X_train.values, df_y_train.values\n",
    "\n",
    "# Get glacier IDs from training dataset (in the order of which they appear in training dataset).\n",
    "# gp_s is an array with shape equal to the shape of X_train_s and y_train_s.\n",
    "glacier_ids = np.array(dataset['ID'].values)\n",
    "\n",
    "# Use five folds\n",
    "group_kf_s = sklearn.model_selection.GroupKFold(n_splits=5)\n",
    "\n",
    "# Split into folds according to group by glacier ID.\n",
    "# For each unique glacier ID, indices in gp_s indicate which rows in X_train_s and y_train_s belong to the glacier.\n",
    "splits = list(group_kf_s.split(X_train, y_train, glacier_ids))"
   ],
   "id": "43173eeb826a8dea",
   "outputs": [],
   "execution_count": null
  },
  {
   "metadata": {},
   "cell_type": "code",
   "source": [
    "# Create a base estimator with full metadata\n",
    "base_estimator = mbm.CustomXGBoostRegressor()\n",
    "\n",
    "parameters = {\n",
    "    'max_depth': [3, 4, 5,],\n",
    "    'learning_rate': [0.01, 0.1],\n",
    "    'n_estimators': [100, 200],\n",
    "    'gamma':[0, 1]\n",
    "}\n",
    "\n",
    "clf = GridSearchCV(estimator=base_estimator,\n",
    "                   param_grid=parameters,\n",
    "                   cv=splits,\n",
    "                   verbose=10, \n",
    "                   n_jobs=-1, \n",
    "                   refit=True, \n",
    "                   return_train_score=True,\n",
    "                   error_score='raise')\n",
    "\n",
    "# Fit using features\n",
    "clf.fit(df_X_train, y_train)"
   ],
   "id": "872bc38e1684de43",
   "outputs": [],
   "execution_count": null
  },
  {
   "metadata": {},
   "cell_type": "code",
   "source": "base_estimator.clf",
   "id": "32a181dfdd5e4cf3",
   "outputs": [],
   "execution_count": null
  },
  {
   "metadata": {},
   "cell_type": "code",
   "source": "",
   "id": "6da139ec789acaec",
   "outputs": [],
   "execution_count": null
  }
 ],
 "metadata": {
  "kernelspec": {
   "display_name": "Python 3",
   "language": "python",
   "name": "python3"
  },
  "language_info": {
   "codemirror_mode": {
    "name": "ipython",
    "version": 2
   },
   "file_extension": ".py",
   "mimetype": "text/x-python",
   "name": "python",
   "nbconvert_exporter": "python",
   "pygments_lexer": "ipython2",
   "version": "2.7.6"
  }
 },
 "nbformat": 4,
 "nbformat_minor": 5
}
