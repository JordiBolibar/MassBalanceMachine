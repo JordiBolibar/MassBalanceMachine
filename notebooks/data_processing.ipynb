{
 "cells": [
  {
   "cell_type": "markdown",
   "id": "3aa88805730566c5",
   "metadata": {},
   "source": [
<<<<<<< HEAD
    "# MassBalanceMachine Data Processing - Example for importing custom data for Iceland\n",
    "\n",
    "In this notebook, the data processing workflow of the MassBalanceMachine will be outlined through an example with glaciological data from glaciers in Iceland. This example will help you understand how to use the data processing pipeline, that retrieves topographical and meteorological features for the all points with glaciological surface mass balance observations.\n",
    "\n",
    "We start by importing some basic libraries, as well as the `massbalancemachine`. Then, we specify where we will place the files for the region where we will be working on (in this case, Iceland). "
=======
    "# MassBalanceMachine Data Processing - Example for Iceland\n",
    "\n",
    "In this notebook, the data processing part of the MassBalanceMachine will be outline through an example with stake data from glaciers in Iceland. This example will help you understand how to use the data processing pipeline, that retrieves toporgrahpical and meteorological features for the stake data."
>>>>>>> c55e3902d2f6d21c9c95a9fe3baebe5283545657
   ]
  },
  {
   "cell_type": "code",
<<<<<<< HEAD
   "execution_count": 1,
   "id": "7f184536",
   "metadata": {
    "ExecuteTime": {
     "end_time": "2024-06-27T13:46:51.387030Z",
     "start_time": "2024-06-27T13:46:47.123711Z"
    }
   },
   "outputs": [],
   "source": [
    "import re\n",
    "import os\n",
    "import sys\n",
    "import pandas as pd\n",
    "\n",
    "sys.path.append('.././')\n",
    "import massbalancemachine as mbm"
   ]
=======
   "id": "7f184536",
   "metadata": {
    "ExecuteTime": {
     "end_time": "2024-06-27T14:29:16.803226Z",
     "start_time": "2024-06-27T14:29:16.798354Z"
    }
   },
   "source": [
    "import re\n",
    "import os\n",
    "import pandas as pd\n",
    "\n",
    "# Import the submodules from the MassBalanceMachine core\n",
    "import massbalancemachine as mbm\n",
    "\n",
    "FILE_DIR = '.././regions/iceland/mbm/data/files/'"
   ],
   "outputs": [],
   "execution_count": 3
>>>>>>> c55e3902d2f6d21c9c95a9fe3baebe5283545657
  },
  {
   "cell_type": "markdown",
   "id": "77de54d4",
   "metadata": {},
   "source": [
    "## 1. Define and Load your Target Surface Mass Balance Dataset\n",
    "\n",
<<<<<<< HEAD
    "**Expected columns in the dataset (per stake):** longitude ('lon'), latitude ('lat'), RGI ID, and the hydrological year of the measurement. \n",
    "\n",
    "When working with custom glaciological data from a region of interest, first we need to import our dataset, which will be processed by the MassBalanceMachine to add additional topographical and climatic features for training. \n",
    "\n",
    "We load the dataset using `pandas`, and we take a look at it."
=======
    "**Expected columns in the dataset (per stake):** longitude ('lon'), latitude ('lat'), RGI ID, and the hydrological year of the measurement. "
>>>>>>> c55e3902d2f6d21c9c95a9fe3baebe5283545657
   ]
  },
  {
   "cell_type": "code",
<<<<<<< HEAD
   "execution_count": 2,
   "id": "b852c00e",
   "metadata": {
    "ExecuteTime": {
     "end_time": "2024-06-27T13:46:51.410101Z",
     "start_time": "2024-06-27T13:46:51.389078Z"
    }
   },
   "outputs": [
    {
     "data": {
      "text/html": [
       "<div>\n",
       "<style scoped>\n",
       "    .dataframe tbody tr th:only-of-type {\n",
       "        vertical-align: middle;\n",
       "    }\n",
       "\n",
       "    .dataframe tbody tr th {\n",
       "        vertical-align: top;\n",
       "    }\n",
       "\n",
       "    .dataframe thead th {\n",
       "        text-align: right;\n",
       "    }\n",
       "</style>\n",
       "<table border=\"1\" class=\"dataframe\">\n",
       "  <thead>\n",
       "    <tr style=\"text-align: right;\">\n",
       "      <th></th>\n",
       "      <th>stake</th>\n",
       "      <th>yr</th>\n",
       "      <th>d1</th>\n",
       "      <th>d2</th>\n",
       "      <th>d3</th>\n",
       "      <th>lat</th>\n",
       "      <th>lon</th>\n",
       "      <th>elevation</th>\n",
       "      <th>rhow</th>\n",
       "      <th>rhos</th>\n",
       "      <th>bw_stratigraphic</th>\n",
       "      <th>bs_stratigraphic</th>\n",
       "      <th>ba_stratigraphic</th>\n",
       "      <th>bw_floating_date</th>\n",
       "      <th>bs_floating_date</th>\n",
       "      <th>ba_floating_date</th>\n",
       "      <th>RGIId</th>\n",
       "      <th>GLIMSId</th>\n",
       "      <th>Name</th>\n",
       "    </tr>\n",
       "  </thead>\n",
       "  <tbody>\n",
       "    <tr>\n",
       "      <th>0</th>\n",
       "      <td>hn14aa</td>\n",
       "      <td>1995</td>\n",
       "      <td>17/09/1994</td>\n",
       "      <td>20/05/1995</td>\n",
       "      <td>16/09/1995</td>\n",
       "      <td>64.885013</td>\n",
       "      <td>-18.773871</td>\n",
       "      <td>1450.400000</td>\n",
       "      <td>NaN</td>\n",
       "      <td>NaN</td>\n",
       "      <td>2.07000</td>\n",
       "      <td>-1.43000</td>\n",
       "      <td>0.640</td>\n",
       "      <td>2.07000</td>\n",
       "      <td>-1.43000</td>\n",
       "      <td>0.6400</td>\n",
       "      <td>RGI60-06.00228</td>\n",
       "      <td>G341234E64913N</td>\n",
       "      <td>NaN</td>\n",
       "    </tr>\n",
       "    <tr>\n",
       "      <th>1</th>\n",
       "      <td>hn14aa</td>\n",
       "      <td>1996</td>\n",
       "      <td>16/09/1995</td>\n",
       "      <td>11/05/1996</td>\n",
       "      <td>03/10/1996</td>\n",
       "      <td>64.885013</td>\n",
       "      <td>-18.773871</td>\n",
       "      <td>1449.800000</td>\n",
       "      <td>NaN</td>\n",
       "      <td>NaN</td>\n",
       "      <td>1.83000</td>\n",
       "      <td>-1.30000</td>\n",
       "      <td>0.530</td>\n",
       "      <td>1.83000</td>\n",
       "      <td>-1.30000</td>\n",
       "      <td>0.5300</td>\n",
       "      <td>RGI60-06.00228</td>\n",
       "      <td>G341234E64913N</td>\n",
       "      <td>NaN</td>\n",
       "    </tr>\n",
       "    <tr>\n",
       "      <th>2</th>\n",
       "      <td>hn14aa</td>\n",
       "      <td>1999</td>\n",
       "      <td>04/10/1998</td>\n",
       "      <td>15/05/1999</td>\n",
       "      <td>23/09/1999</td>\n",
       "      <td>64.885013</td>\n",
       "      <td>-18.773871</td>\n",
       "      <td>1448.300000</td>\n",
       "      <td>NaN</td>\n",
       "      <td>NaN</td>\n",
       "      <td>NaN</td>\n",
       "      <td>NaN</td>\n",
       "      <td>1.040</td>\n",
       "      <td>NaN</td>\n",
       "      <td>NaN</td>\n",
       "      <td>1.0400</td>\n",
       "      <td>RGI60-06.00228</td>\n",
       "      <td>G341234E64913N</td>\n",
       "      <td>NaN</td>\n",
       "    </tr>\n",
       "    <tr>\n",
       "      <th>3</th>\n",
       "      <td>hn14aa</td>\n",
       "      <td>2000</td>\n",
       "      <td>23/09/1999</td>\n",
       "      <td>13/05/2000</td>\n",
       "      <td>23/09/2000</td>\n",
       "      <td>64.885013</td>\n",
       "      <td>-18.773871</td>\n",
       "      <td>1447.300000</td>\n",
       "      <td>513.0</td>\n",
       "      <td>600.0</td>\n",
       "      <td>2.49000</td>\n",
       "      <td>-1.11000</td>\n",
       "      <td>1.380</td>\n",
       "      <td>2.49000</td>\n",
       "      <td>-0.97000</td>\n",
       "      <td>1.5200</td>\n",
       "      <td>RGI60-06.00228</td>\n",
       "      <td>G341234E64913N</td>\n",
       "      <td>NaN</td>\n",
       "    </tr>\n",
       "    <tr>\n",
       "      <th>4</th>\n",
       "      <td>hn14aa</td>\n",
       "      <td>2001</td>\n",
       "      <td>23/09/2000</td>\n",
       "      <td>11/05/2001</td>\n",
       "      <td>28/09/2001</td>\n",
       "      <td>64.885013</td>\n",
       "      <td>-18.773871</td>\n",
       "      <td>1446.300000</td>\n",
       "      <td>499.0</td>\n",
       "      <td>600.0</td>\n",
       "      <td>1.63000</td>\n",
       "      <td>-0.84000</td>\n",
       "      <td>0.790</td>\n",
       "      <td>1.49000</td>\n",
       "      <td>-0.83000</td>\n",
       "      <td>0.6600</td>\n",
       "      <td>RGI60-06.00228</td>\n",
       "      <td>G341234E64913N</td>\n",
       "      <td>NaN</td>\n",
       "    </tr>\n",
       "    <tr>\n",
       "      <th>...</th>\n",
       "      <td>...</td>\n",
       "      <td>...</td>\n",
       "      <td>...</td>\n",
       "      <td>...</td>\n",
       "      <td>...</td>\n",
       "      <td>...</td>\n",
       "      <td>...</td>\n",
       "      <td>...</td>\n",
       "      <td>...</td>\n",
       "      <td>...</td>\n",
       "      <td>...</td>\n",
       "      <td>...</td>\n",
       "      <td>...</td>\n",
       "      <td>...</td>\n",
       "      <td>...</td>\n",
       "      <td>...</td>\n",
       "      <td>...</td>\n",
       "      <td>...</td>\n",
       "      <td>...</td>\n",
       "    </tr>\n",
       "    <tr>\n",
       "      <th>2889</th>\n",
       "      <td>Br7</td>\n",
       "      <td>2018</td>\n",
       "      <td>24/10/2017</td>\n",
       "      <td>09/05/2018</td>\n",
       "      <td>09/10/2018</td>\n",
       "      <td>64.369011</td>\n",
       "      <td>-16.282516</td>\n",
       "      <td>1248.982009</td>\n",
       "      <td>475.0</td>\n",
       "      <td>600.0</td>\n",
       "      <td>2.76700</td>\n",
       "      <td>-1.34000</td>\n",
       "      <td>1.427</td>\n",
       "      <td>2.65150</td>\n",
       "      <td>-1.08800</td>\n",
       "      <td>1.5635</td>\n",
       "      <td>RGI60-06.00483</td>\n",
       "      <td>G343523E64267N</td>\n",
       "      <td>Breidamerkurjoekull</td>\n",
       "    </tr>\n",
       "    <tr>\n",
       "      <th>2890</th>\n",
       "      <td>Br7</td>\n",
       "      <td>2019</td>\n",
       "      <td>09/10/2018</td>\n",
       "      <td>01/05/2019</td>\n",
       "      <td>18/10/2019</td>\n",
       "      <td>64.369418</td>\n",
       "      <td>-16.282116</td>\n",
       "      <td>1248.830000</td>\n",
       "      <td>547.0</td>\n",
       "      <td>600.0</td>\n",
       "      <td>2.12236</td>\n",
       "      <td>-1.94236</td>\n",
       "      <td>0.180</td>\n",
       "      <td>1.87036</td>\n",
       "      <td>-1.71486</td>\n",
       "      <td>0.1555</td>\n",
       "      <td>RGI60-06.00483</td>\n",
       "      <td>G343523E64267N</td>\n",
       "      <td>Breidamerkurjoekull</td>\n",
       "    </tr>\n",
       "    <tr>\n",
       "      <th>2891</th>\n",
       "      <td>Br7</td>\n",
       "      <td>2020</td>\n",
       "      <td>18/10/2019</td>\n",
       "      <td>05/05/2020</td>\n",
       "      <td>09/10/2020</td>\n",
       "      <td>64.368945</td>\n",
       "      <td>-16.282034</td>\n",
       "      <td>1247.130000</td>\n",
       "      <td>523.0</td>\n",
       "      <td>600.0</td>\n",
       "      <td>2.52000</td>\n",
       "      <td>-2.06400</td>\n",
       "      <td>0.456</td>\n",
       "      <td>2.29250</td>\n",
       "      <td>-1.81900</td>\n",
       "      <td>0.4735</td>\n",
       "      <td>RGI60-06.00483</td>\n",
       "      <td>G343523E64267N</td>\n",
       "      <td>Breidamerkurjoekull</td>\n",
       "    </tr>\n",
       "    <tr>\n",
       "      <th>2892</th>\n",
       "      <td>Br7</td>\n",
       "      <td>2021</td>\n",
       "      <td>09/10/2020</td>\n",
       "      <td>01/05/2021</td>\n",
       "      <td>15/10/2021</td>\n",
       "      <td>64.368874</td>\n",
       "      <td>-16.282383</td>\n",
       "      <td>1246.360000</td>\n",
       "      <td>5120.0</td>\n",
       "      <td>600.0</td>\n",
       "      <td>2.00000</td>\n",
       "      <td>-1.34600</td>\n",
       "      <td>0.654</td>\n",
       "      <td>1.75500</td>\n",
       "      <td>-1.08350</td>\n",
       "      <td>0.6715</td>\n",
       "      <td>RGI60-06.00483</td>\n",
       "      <td>G343523E64267N</td>\n",
       "      <td>Breidamerkurjoekull</td>\n",
       "    </tr>\n",
       "    <tr>\n",
       "      <th>2893</th>\n",
       "      <td>Br7</td>\n",
       "      <td>2022</td>\n",
       "      <td>15/10/2021</td>\n",
       "      <td>03/05/2022</td>\n",
       "      <td>17/10/2022</td>\n",
       "      <td>64.369078</td>\n",
       "      <td>-16.281955</td>\n",
       "      <td>1246.210000</td>\n",
       "      <td>510.0</td>\n",
       "      <td>600.0</td>\n",
       "      <td>2.67000</td>\n",
       "      <td>-1.21200</td>\n",
       "      <td>1.458</td>\n",
       "      <td>2.40750</td>\n",
       "      <td>-1.06500</td>\n",
       "      <td>1.3425</td>\n",
       "      <td>RGI60-06.00483</td>\n",
       "      <td>G343523E64267N</td>\n",
       "      <td>Breidamerkurjoekull</td>\n",
       "    </tr>\n",
       "  </tbody>\n",
       "</table>\n",
       "<p>2894 rows × 19 columns</p>\n",
       "</div>"
      ],
      "text/plain": [
       "       stake    yr          d1          d2          d3        lat        lon  \\\n",
       "0     hn14aa  1995  17/09/1994  20/05/1995  16/09/1995  64.885013 -18.773871   \n",
       "1     hn14aa  1996  16/09/1995  11/05/1996  03/10/1996  64.885013 -18.773871   \n",
       "2     hn14aa  1999  04/10/1998  15/05/1999  23/09/1999  64.885013 -18.773871   \n",
       "3     hn14aa  2000  23/09/1999  13/05/2000  23/09/2000  64.885013 -18.773871   \n",
       "4     hn14aa  2001  23/09/2000  11/05/2001  28/09/2001  64.885013 -18.773871   \n",
       "...      ...   ...         ...         ...         ...        ...        ...   \n",
       "2889     Br7  2018  24/10/2017  09/05/2018  09/10/2018  64.369011 -16.282516   \n",
       "2890     Br7  2019  09/10/2018  01/05/2019  18/10/2019  64.369418 -16.282116   \n",
       "2891     Br7  2020  18/10/2019  05/05/2020  09/10/2020  64.368945 -16.282034   \n",
       "2892     Br7  2021  09/10/2020  01/05/2021  15/10/2021  64.368874 -16.282383   \n",
       "2893     Br7  2022  15/10/2021  03/05/2022  17/10/2022  64.369078 -16.281955   \n",
       "\n",
       "        elevation    rhow   rhos  bw_stratigraphic  bs_stratigraphic  \\\n",
       "0     1450.400000     NaN    NaN           2.07000          -1.43000   \n",
       "1     1449.800000     NaN    NaN           1.83000          -1.30000   \n",
       "2     1448.300000     NaN    NaN               NaN               NaN   \n",
       "3     1447.300000   513.0  600.0           2.49000          -1.11000   \n",
       "4     1446.300000   499.0  600.0           1.63000          -0.84000   \n",
       "...           ...     ...    ...               ...               ...   \n",
       "2889  1248.982009   475.0  600.0           2.76700          -1.34000   \n",
       "2890  1248.830000   547.0  600.0           2.12236          -1.94236   \n",
       "2891  1247.130000   523.0  600.0           2.52000          -2.06400   \n",
       "2892  1246.360000  5120.0  600.0           2.00000          -1.34600   \n",
       "2893  1246.210000   510.0  600.0           2.67000          -1.21200   \n",
       "\n",
       "      ba_stratigraphic  bw_floating_date  bs_floating_date  ba_floating_date  \\\n",
       "0                0.640           2.07000          -1.43000            0.6400   \n",
       "1                0.530           1.83000          -1.30000            0.5300   \n",
       "2                1.040               NaN               NaN            1.0400   \n",
       "3                1.380           2.49000          -0.97000            1.5200   \n",
       "4                0.790           1.49000          -0.83000            0.6600   \n",
       "...                ...               ...               ...               ...   \n",
       "2889             1.427           2.65150          -1.08800            1.5635   \n",
       "2890             0.180           1.87036          -1.71486            0.1555   \n",
       "2891             0.456           2.29250          -1.81900            0.4735   \n",
       "2892             0.654           1.75500          -1.08350            0.6715   \n",
       "2893             1.458           2.40750          -1.06500            1.3425   \n",
       "\n",
       "               RGIId         GLIMSId                 Name  \n",
       "0     RGI60-06.00228  G341234E64913N                  NaN  \n",
       "1     RGI60-06.00228  G341234E64913N                  NaN  \n",
       "2     RGI60-06.00228  G341234E64913N                  NaN  \n",
       "3     RGI60-06.00228  G341234E64913N                  NaN  \n",
       "4     RGI60-06.00228  G341234E64913N                  NaN  \n",
       "...              ...             ...                  ...  \n",
       "2889  RGI60-06.00483  G343523E64267N  Breidamerkurjoekull  \n",
       "2890  RGI60-06.00483  G343523E64267N  Breidamerkurjoekull  \n",
       "2891  RGI60-06.00483  G343523E64267N  Breidamerkurjoekull  \n",
       "2892  RGI60-06.00483  G343523E64267N  Breidamerkurjoekull  \n",
       "2893  RGI60-06.00483  G343523E64267N  Breidamerkurjoekull  \n",
       "\n",
       "[2894 rows x 19 columns]"
      ]
     },
     "execution_count": 2,
     "metadata": {},
     "output_type": "execute_result"
    }
   ],
   "source": [
    "# Specify the filename of the input file with the raw data\n",
    "FILE_DIR = '../regions/iceland/mbm/data/files/'\n",
=======
   "id": "b852c00e",
   "metadata": {
    "ExecuteTime": {
     "end_time": "2024-06-27T14:29:17.811727Z",
     "start_time": "2024-06-27T14:29:17.782860Z"
    }
   },
   "source": [
    "# Specify the filename of the input file with the raw data\n",
>>>>>>> c55e3902d2f6d21c9c95a9fe3baebe5283545657
    "input_target_fname = 'Iceland_Stake_Data_Reprojected.csv'\n",
    "# Construct the full file path\n",
    "input_file_path = os.path.join(FILE_DIR, input_target_fname)\n",
    "\n",
    "df = pd.read_csv(input_file_path)\n",
<<<<<<< HEAD
    "df"
   ]
  },
  {
   "cell_type": "markdown",
   "id": "ed4e7f7e-2751-40be-9d35-f3f78c8ecf31",
   "metadata": {},
   "source": [
    "Then, we can create a MassBalanceMachine `Dataset`, by using the loaded `DataFrame`, specifying the column tag for the RGI IDs, and (optionally) specifying for which region are we working. "
   ]
  },
  {
   "cell_type": "code",
   "execution_count": 3,
   "id": "48cc60ab-7d52-4ae3-8772-06581606ef72",
   "metadata": {},
   "outputs": [],
   "source": [
    "# Provide the column name for the column that has the RGI IDs for each of the stakes\n",
    "# Provide the region ID\n",
    "dataset = mbm.Dataset(df, 'RGIId', FILE_DIR, '06')"
   ]
=======
    "\n",
    "# Provide the column name for the column that has the RGI IDs for each of the stakes\n",
    "# Provide the region ID\n",
    "dataset = mbm.Dataset(df, 'RGIId', FILE_DIR, '06')"
   ],
   "outputs": [],
   "execution_count": 4
>>>>>>> c55e3902d2f6d21c9c95a9fe3baebe5283545657
  },
  {
   "cell_type": "markdown",
   "id": "045122a5",
   "metadata": {},
<<<<<<< HEAD
   "source": [
    "## 2. Get the Topographical Features per Stake"
   ]
  },
  {
   "cell_type": "markdown",
   "id": "e8b37452-c396-4692-baa7-ab2330120245",
   "metadata": {},
   "source": [
    "Once we have created a `Dataset`, the first thing we can do is to add topographical data in our dataset. This can be done automatically with the MassBalanceMachine (which calls OGGM) by doing the following:"
   ]
  },
  {
   "cell_type": "code",
   "execution_count": 4,
   "id": "6ab47703",
   "metadata": {},
   "outputs": [
    {
     "name": "stderr",
     "output_type": "stream",
     "text": [
      "2024-06-28 09:57:02: oggm.cfg: Reading default parameters from the OGGM `params.cfg` configuration file.\n",
      "2024-06-28 09:57:02: oggm.cfg: Multiprocessing switched OFF according to the parameter file.\n",
      "2024-06-28 09:57:02: oggm.cfg: Multiprocessing: using all available processors (N=4)\n",
      "2024-06-28 09:57:03: oggm.cfg: PARAMS['border'] changed from `80` to `10`.\n",
      "2024-06-28 09:57:03: oggm.cfg: Multiprocessing switched ON after user settings.\n",
      "2024-06-28 09:57:03: oggm.cfg: PARAMS['continue_on_error'] changed from `False` to `True`.\n",
      "2024-06-28 09:57:04: oggm.workflow: init_glacier_directories from prepro level 3 on 29 glaciers.\n",
      "2024-06-28 09:57:04: oggm.workflow: Execute entity tasks [gdir_from_prepro] on 29 glaciers\n",
      "2024-06-28 09:57:11: oggm.workflow: Execute entity tasks [gridded_attributes] on 29 glaciers\n"
     ]
    }
   ],
=======
   "source": "## 2. Get the Topographical Features per Stake"
  },
  {
   "cell_type": "code",
   "id": "6ab47703",
   "metadata": {},
>>>>>>> c55e3902d2f6d21c9c95a9fe3baebe5283545657
   "source": [
    "# Specify the output filename to save the intermediate results\n",
    "output_topo_fname = 'Iceland_Stake_Data_T_Attributes.csv'\n",
    "\n",
    "# Specify the topographical features of interest \n",
    "vois_topo_columns = ['topo', 'aspect', 'slope', 'slope_factor', 'dis_from_border']\n",
    "\n",
    "# Retrieve the topographical features for each of the stake measurement in the dataset\n",
    "dataset.get_topo_features(output_topo_fname, vois_topo_columns)"
<<<<<<< HEAD
   ]
=======
   ],
   "execution_count": null,
   "outputs": []
>>>>>>> c55e3902d2f6d21c9c95a9fe3baebe5283545657
  },
  {
   "cell_type": "markdown",
   "id": "9430dbbd531b138",
   "metadata": {},
<<<<<<< HEAD
   "source": [
    "## 3. Get the Meteorological Features per Stake"
   ]
  },
  {
   "cell_type": "markdown",
   "id": "7b774c4c-1976-4a3c-bd84-ee3ca489917e",
   "metadata": {
    "tags": []
   },
   "source": [
    "Once we have the topographical data, we can add the necessary climate data for the dataset. This is done by pulling that from ERA5-Land. MassBalanceMachine automatically handles this for the region of interest where the glaciers are. "
   ]
  },
  {
   "cell_type": "code",
   "execution_count": 5,
   "id": "b20c314b",
   "metadata": {},
   "outputs": [],
   "source": [
    "# Specify the directory and the files of the climate data, that will be matched with the coordinates of the stake data\n",
    "input_era5_fname = '../regions/iceland/mbm/data/climate/ERA5_monthly_averaged_climate_data.nc'\n",
    "input_gp_fname = '../regions/iceland/mbm/data/climate/ERA5_geopotential_pressure.nc'\n",
=======
   "source": "## 3. Get the Meteorological Features per Stake"
  },
  {
   "cell_type": "code",
   "id": "b20c314b",
   "metadata": {},
   "source": [
    "# Specify the directory and the files of the climate data, that will be matched with the coordinates of the stake data\n",
    "input_era5_fname = '../../regions/iceland/mbm/data/climate/ERA5_monthly_averaged_climate_data.nc'\n",
    "input_gp_fname = '../../regions/iceland/mbm/data/climate/ERA5_geopotential_pressure.nc'\n",
>>>>>>> c55e3902d2f6d21c9c95a9fe3baebe5283545657
    "\n",
    "# Specify the output filename to save the intermediate results\n",
    "output_climate_fname = 'Iceland_Stake_Data_Climate.csv'\n",
    "\n",
    "# Provide the column name of your dataset that contains the hydrological year, if not available provide a measurement date\n",
    "# that was taken at the end of the hydrological year, so that the year can be extracted for stakes and indicate this with TRUE.\n",
    "dataset.get_climate_features(output_climate_fname, input_era5_fname, input_gp_fname, 'd3')"
<<<<<<< HEAD
   ]
  },
  {
   "cell_type": "markdown",
   "id": "dbe4fa9fa2ff6c55",
   "metadata": {},
   "source": [
    "## 4. Transform Data to Monthly Resolution"
   ]
  },
  {
   "cell_type": "markdown",
   "id": "568496ff-3ead-4ae3-8db5-2be06985085f",
   "metadata": {},
   "source": [
    "Finally, we need to transform the dataset into a monthly resolution. This will be done in order to perform SMB predictions at a monthly time step, which then will be integrate both in time and space to match the available glaciological and geodetic SMB observations for the training. "
   ]
  },
  {
   "cell_type": "code",
   "execution_count": 7,
   "id": "a5c40243a95f88f9",
=======
   ],
   "execution_count": null,
   "outputs": []
  },
  {
   "metadata": {},
   "cell_type": "markdown",
   "source": "## 4. Transform Data to Monthly Resolution",
   "id": "dbe4fa9fa2ff6c55"
  },
  {
>>>>>>> c55e3902d2f6d21c9c95a9fe3baebe5283545657
   "metadata": {
    "ExecuteTime": {
     "end_time": "2024-06-26T13:38:10.947513Z",
     "start_time": "2024-06-26T13:38:08.730071Z"
    }
   },
<<<<<<< HEAD
   "outputs": [],
=======
   "cell_type": "code",
>>>>>>> c55e3902d2f6d21c9c95a9fe3baebe5283545657
   "source": [
    "# Define which columns are of interest (vois: variables of interest), please see the metadata file for the ERA5-Land data with all the variable names\n",
    "vois_climate = ['t2m', 'tp', 'sshf', 'slhf', 'ssrd', 'fal', 'str']\n",
    "\n",
    "# Create a dictionary of all the columns in the dataset that match the variables of interest of the ERA5-Land data\n",
    "vois_climate_columns = {voi: [col for col in df.columns.values if re.match(f'{voi}_[a-zA-Z]*', col)] for voi in vois_climate}\n",
    "\n",
    "# Specify the column names for the seasonal (winter and summer) and annual mass balance columns in the dataset\n",
    "smb_column_names = ['ba_stratigraphic', 'bw_stratigraphic', 'bs_stratigraphic']\n",
    "\n",
    "misc_column_names = ['yr']\n",
    "\n",
    "# Specify the output filename to save the intermediate results\n",
    "output_climate_fname = 'Iceland_Stake_Data_Monthly.csv'\n",
    "\n",
    "dataset.convert_to_monthly(output_climate_fname, vois_climate_columns, vois_topo_columns, smb_column_names, misc_column_names)"
<<<<<<< HEAD
   ]
  },
  {
   "cell_type": "markdown",
   "id": "4807c581-6b3a-40d5-8e5a-068e3264f22c",
   "metadata": {},
   "source": [
    "Finally, we can take a look at the dataset which will be used for training."
   ]
=======
   ],
   "id": "a5c40243a95f88f9",
   "execution_count": 3,
   "outputs": []
>>>>>>> c55e3902d2f6d21c9c95a9fe3baebe5283545657
  }
 ],
 "metadata": {
  "kernelspec": {
<<<<<<< HEAD
   "display_name": "Python [conda env:.conda-MassBalanceMachine]",
   "language": "python",
   "name": "conda-env-.conda-MassBalanceMachine-py"
=======
   "display_name": "Python 3",
   "language": "python",
   "name": "python3"
>>>>>>> c55e3902d2f6d21c9c95a9fe3baebe5283545657
  },
  "language_info": {
   "codemirror_mode": {
    "name": "ipython",
    "version": 3
   },
   "file_extension": ".py",
   "mimetype": "text/x-python",
   "name": "python",
   "nbconvert_exporter": "python",
   "pygments_lexer": "ipython3",
   "version": "3.12.3"
  }
 },
 "nbformat": 4,
 "nbformat_minor": 5
}
