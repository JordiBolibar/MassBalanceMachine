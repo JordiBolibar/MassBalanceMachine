{
 "cells": [
  {
   "cell_type": "markdown",
   "id": "201e61a3dd0c0186",
   "metadata": {},
   "source": "# MassBalanceMachine XGBoost Model Training - Example for the Iceland Region"
  },
  {
   "cell_type": "code",
   "id": "b6c8e565918ac651",
   "metadata": {},
   "source": [
    "import pandas as pd\n",
    "import massbalancemachine as mbm\n",
    "\n",
    "from sklearn.model_selection import GridSearchCV"
   ],
   "outputs": [],
   "execution_count": null
  },
  {
   "cell_type": "code",
   "id": "5b8df3f652285622",
   "metadata": {},
   "source": [
    "df = pd.read_csv('./example_data/iceland/files/region_monthly.csv')\n",
    "\n",
    "dataset = mbm.Dataset(data=)"
   ],
   "outputs": [],
   "execution_count": null
  },
  {
   "cell_type": "code",
   "id": "43173eeb826a8dea",
   "metadata": {},
   "source": "",
   "outputs": [],
   "execution_count": null
  },
  {
   "cell_type": "code",
   "id": "872bc38e1684de43",
   "metadata": {},
   "source": [
    "# Create a base estimator with full metadata\n",
    "base_estimator = mbm.models.CustomXGBoostRegressor()\n",
    "\n",
    "parameters = {\n",
    "    'max_depth': [3, 4, 5,],\n",
    "    'learning_rate': [0.01, 0.1],\n",
    "    'n_estimators': [100, 200],\n",
    "    'gamma':[0, 1]\n",
    "}\n",
    "\n",
    "clf = GridSearchCV(\n",
    "    estimator=base_estimator,\n",
    "    param_grid=parameters,\n",
    "    cv=splits,\n",
    "    verbose=10, \n",
    "    n_jobs=-1, \n",
    "    refit=True, \n",
    "    return_train_score=True,\n",
    "    error_score='raise'\n",
    ")\n",
    "\n",
    "# Fit using features\n",
    "clf.fit(df_X_train, y_train)"
   ],
   "outputs": [],
   "execution_count": null
  },
  {
   "cell_type": "code",
   "id": "6da139ec789acaec",
   "metadata": {
    "ExecuteTime": {
     "end_time": "2024-07-19T08:50:02.671259Z",
     "start_time": "2024-07-19T08:50:02.660434Z"
    }
   },
   "source": [
    "import numpy as np\n",
    "from sklearn.model_selection import train_test_split\n",
    "\n",
    "# Sample data\n",
    "X = np.array([[1, 2], [3, 4], [5, 6], [7, 8], [9, 10], [11, 12]])\n",
    "y = np.array([0, 1, 0, 1, 0, 1])\n",
    "\n",
    "# Create indices\n",
    "indices = np.arange(X.shape[0])\n",
    "\n",
    "# Split the indices\n",
    "train_indices, test_indices = train_test_split(indices, test_size=0.3, random_state=42)\n",
    "\n",
    "# Create iterators\n",
    "train_iterator = iter(train_indices)\n",
    "test_iterator = iter(test_indices)\n",
    "\n",
    "# Example usage of the iterator\n",
    "print(\"Training indices:\")\n",
    "for idx in train_iterator:\n",
    "    print(idx)\n",
    "    print(X[idx])\n",
    "\n",
    "print(\"\\nTest indices:\")\n",
    "for idx in test_iterator:\n",
    "    print(idx)\n"
   ],
   "outputs": [
    {
     "name": "stdout",
     "output_type": "stream",
     "text": [
      "Training indices:\n",
      "5\n",
      "[11 12]\n",
      "2\n",
      "[5 6]\n",
      "4\n",
      "[ 9 10]\n",
      "3\n",
      "[7 8]\n",
      "\n",
      "Test indices:\n",
      "0\n",
      "1\n"
     ]
    }
   ],
   "execution_count": 3
  },
  {
   "metadata": {},
   "cell_type": "code",
   "outputs": [],
   "execution_count": null,
   "source": "",
   "id": "df887ce71b257e3"
  }
 ],
 "metadata": {
  "kernelspec": {
   "display_name": "Python 3 (ipykernel)",
   "language": "python",
   "name": "python3"
  },
  "language_info": {
   "codemirror_mode": {
    "name": "ipython",
    "version": 3
   },
   "file_extension": ".py",
   "mimetype": "text/x-python",
   "name": "python",
   "nbconvert_exporter": "python",
   "pygments_lexer": "ipython3",
   "version": "3.10.0"
  }
 },
 "nbformat": 4,
 "nbformat_minor": 5
}
