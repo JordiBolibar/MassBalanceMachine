{
 "cells": [
  {
   "cell_type": "markdown",
   "id": "201e61a3dd0c0186",
   "metadata": {},
   "source": "# MassBalanceMachine XGBoost Model Training - Example for the Iceland Region"
  },
  {
   "cell_type": "code",
   "id": "b6c8e565918ac651",
   "metadata": {},
   "source": [
    "import pandas as pd\n",
    "import massbalancemachine as mbm\n",
    "\n",
    "from sklearn.model_selection import GridSearchCV"
   ],
   "outputs": [],
   "execution_count": null
  },
  {
   "cell_type": "code",
   "id": "5b8df3f652285622",
   "metadata": {},
   "source": [
    "dataset = pd.read_csv('./example_data/iceland/files/region_monthly.csv')"
   ],
   "outputs": [],
   "execution_count": null
  },
  {
   "cell_type": "code",
   "id": "43173eeb826a8dea",
   "metadata": {},
   "source": "",
   "outputs": [],
   "execution_count": null
  },
  {
   "cell_type": "code",
   "id": "872bc38e1684de43",
   "metadata": {},
   "source": [
    "# Create a base estimator with full metadata\n",
    "base_estimator = mbm.models.CustomXGBoostRegressor()\n",
    "\n",
    "parameters = {\n",
    "    'max_depth': [3, 4, 5,],\n",
    "    'learning_rate': [0.01, 0.1],\n",
    "    'n_estimators': [100, 200],\n",
    "    'gamma':[0, 1]\n",
    "}\n",
    "\n",
    "clf = GridSearchCV(\n",
    "    estimator=base_estimator,\n",
    "    param_grid=parameters,\n",
    "    cv=splits,\n",
    "    verbose=10, \n",
    "    n_jobs=-1, \n",
    "    refit=True, \n",
    "    return_train_score=True,\n",
    "    error_score='raise'\n",
    ")\n",
    "\n",
    "# Fit using features\n",
    "clf.fit(df_X_train, y_train)"
   ],
   "outputs": [],
   "execution_count": null
  },
  {
   "cell_type": "code",
   "id": "6da139ec789acaec",
   "metadata": {},
   "source": [],
   "outputs": [],
   "execution_count": null
  }
 ],
 "metadata": {
  "kernelspec": {
   "display_name": "Python 3 (ipykernel)",
   "language": "python",
   "name": "python3"
  },
  "language_info": {
   "codemirror_mode": {
    "name": "ipython",
    "version": 3
   },
   "file_extension": ".py",
   "mimetype": "text/x-python",
   "name": "python",
   "nbconvert_exporter": "python",
   "pygments_lexer": "ipython3",
   "version": "3.10.0"
  }
 },
 "nbformat": 4,
 "nbformat_minor": 5
}
