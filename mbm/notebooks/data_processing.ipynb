{
 "cells": [
  {
   "cell_type": "markdown",
   "id": "3aa88805730566c5",
   "metadata": {},
   "source": [
    "# MassBalanceMachine Data Processing - Example for Iceland\n",
    "\n",
    "In this notebook, the data processing part of the MassBalanceMachine will be outline through an example with stake data from glaciers in Iceland. This example will help you understand how to use the data processing pipeline, that retrieves toporgrahpical and meteorological features for the stake data."
   ]
  },
  {
   "cell_type": "code",
   "id": "7f184536",
   "metadata": {
    "ExecuteTime": {
     "end_time": "2024-06-26T15:55:19.887661Z",
     "start_time": "2024-06-26T15:55:19.815803Z"
    }
   },
   "source": [
    "import re\n",
    "import os\n",
    "import pandas as pd\n",
    "\n",
    "# Import the submodules from the MassBalanceMachine core\n",
    "from mbm.data_processing import Dataset\n",
    "\n",
    "FILE_DIR = '../../regions/iceland/mbm/data/files/'"
   ],
   "outputs": [],
   "execution_count": 6
  },
  {
   "cell_type": "markdown",
   "id": "77de54d4",
   "metadata": {},
   "source": [
    "## 1. Define and Load your Target Surface Mass Balance Dataset\n",
    "\n",
    "**Expected columns in the dataset (per stake):** longitude ('lon'), latitude ('lat'), RGI ID, and the hydrological year of the measurement. "
   ]
  },
  {
   "cell_type": "code",
   "id": "b852c00e",
   "metadata": {
    "ExecuteTime": {
     "end_time": "2024-06-26T15:55:21.345104Z",
     "start_time": "2024-06-26T15:55:21.197754Z"
    }
   },
   "source": [
    "# Specify the filename of the input file with the raw data\n",
    "input_target_fname = 'Iceland_Stake_Data_Reprojected.csv'\n",
    "# Construct the full file path\n",
    "input_file_path = os.path.join(FILE_DIR, input_target_fname)\n",
    "\n",
    "df = pd.read_csv(input_file_path)\n",
    "\n",
    "# Provide the column name for the column that has the RGI IDs for each of the stakes\n",
    "# Provide the region ID\n",
    "dataset = Dataset(df, 'RGIId', FILE_DIR, '06')"
   ],
   "outputs": [],
   "execution_count": 7
  },
  {
   "cell_type": "markdown",
   "id": "045122a5",
   "metadata": {},
   "source": "## 2. Get the Topographical Features per Stake"
  },
  {
   "cell_type": "code",
   "id": "6ab47703",
   "metadata": {},
   "source": [
    "# Specify the output filename to save the intermediate results\n",
    "output_topo_fname = 'Iceland_Stake_Data_T_Attributes.csv'\n",
    "\n",
    "# Specify the topographical features of interest \n",
    "vois_topo_columns = ['topo', 'aspect', 'slope', 'slope_factor', 'dis_from_border']\n",
    "\n",
    "# Retrieve the topographical features for each of the stake measurement in the dataset\n",
    "dataset.get_topo_features(output_topo_fname, vois_topo_columns)"
   ],
   "execution_count": null,
   "outputs": []
  },
  {
   "cell_type": "markdown",
   "id": "9430dbbd531b138",
   "metadata": {},
   "source": "## 3. Get the Meteorological Features per Stake"
  },
  {
   "cell_type": "code",
   "id": "b20c314b",
   "metadata": {},
   "source": [
    "# Specify the directory and the files of the climate data, that will be matched with the coordinates of the stake data\n",
    "input_era5_fname = '../../regions/iceland/mbm/data/climate/ERA5_monthly_averaged_climate_data.nc'\n",
    "input_gp_fname = '../../regions/iceland/mbm/data/climate/ERA5_geopotential_pressure.nc'\n",
    "\n",
    "# Specify the output filename to save the intermediate results\n",
    "output_climate_fname = 'Iceland_Stake_Data_Climate.csv'\n",
    "\n",
    "# Provide the column name of your dataset that contains the hydrological year, if not available provide a measurement date\n",
    "# that was taken at the end of the hydrological year, so that the year can be extracted for stakes and indicate this with TRUE.\n",
    "dataset.get_climate_features(output_climate_fname, input_era5_fname, input_gp_fname, 'd3')"
   ],
   "execution_count": null,
   "outputs": []
  },
  {
   "metadata": {},
   "cell_type": "markdown",
   "source": "## 4. Transform Data to Monthly Resolution",
   "id": "dbe4fa9fa2ff6c55"
  },
  {
   "metadata": {
    "ExecuteTime": {
     "end_time": "2024-06-26T13:38:10.947513Z",
     "start_time": "2024-06-26T13:38:08.730071Z"
    }
   },
   "cell_type": "code",
   "source": [
    "# Define which columns are of interest (vois: variables of interest), please see the metadata file for the ERA5-Land data with all the variable names\n",
    "vois_climate = ['t2m', 'tp', 'sshf', 'slhf', 'ssrd', 'fal', 'str']\n",
    "\n",
    "# Create a dictionary of all the columns in the dataset that match the variables of interest of the ERA5-Land data\n",
    "vois_climate_columns = {voi: [col for col in df.columns.values if re.match(f'{voi}_[a-zA-Z]*', col)] for voi in vois_climate}\n",
    "\n",
    "# Specify the column names for the seasonal (winter and summer) and annual mass balance columns in the dataset\n",
    "smb_column_names = ['ba_stratigraphic', 'bw_stratigraphic', 'bs_stratigraphic']\n",
    "\n",
    "misc_column_names = ['yr']\n",
    "\n",
    "# Specify the output filename to save the intermediate results\n",
    "output_climate_fname = 'Iceland_Stake_Data_Monthly.csv'\n",
    "\n",
    "dataset.convert_to_monthly(output_climate_fname, vois_climate_columns, vois_topo_columns, smb_column_names, misc_column_names)"
   ],
   "id": "a5c40243a95f88f9",
   "execution_count": 3,
   "outputs": []
  }
 ],
 "metadata": {
  "kernelspec": {
   "display_name": "Python 3",
   "language": "python",
   "name": "python3"
  },
  "language_info": {
   "codemirror_mode": {
    "name": "ipython",
    "version": 3
   },
   "file_extension": ".py",
   "mimetype": "text/x-python",
   "name": "python",
   "nbconvert_exporter": "python",
   "pygments_lexer": "ipython3",
   "version": "3.12.3"
  }
 },
 "nbformat": 4,
 "nbformat_minor": 5
}
